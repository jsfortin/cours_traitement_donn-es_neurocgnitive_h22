{
 "cells": [
  {
   "cell_type": "markdown",
   "id": "8d42b678",
   "metadata": {},
   "source": [
    "# Travail final\n",
    "# Jean-Simon Fortin"
   ]
  },
  {
   "cell_type": "markdown",
   "id": "577bd338",
   "metadata": {},
   "source": [
    "# Objectif\n",
    "\n",
    "## Tel que mentionné dans le plan, l'objectif de ce travail est d'utiliser l'apprentissage automatique afin de prédire/classifier si une personne a perdu ou gagné dans une tâche de gambling à partir de l'activité cérérbrale des participants. Plus précisément, ils s'agit d'une étude en IRMf, donc un parle du signal BOLD  (Blood-oxygen-level-dependent imaging). Les voxels sélectionnés font partie du tronc cérébral et de son entourage. Nous avons les bêtas pour 7962 voxels (notre nombre de prédicteurs) et 46 outcomes (gain vs perte) à prédire."
   ]
  },
  {
   "cell_type": "markdown",
   "id": "158d86c3",
   "metadata": {},
   "source": [
    "# Hypothèse\n",
    "# Notre hypothèse est que nos variables x (les bêtas des 7962 voxels) nous permettrons de classifier l’outcome (gagné vs perdu)."
   ]
  },
  {
   "cell_type": "markdown",
   "id": "54909fd6",
   "metadata": {},
   "source": [
    "## Note: après avoir consulté certains experts, j'ai décidé de ne pas utiliser de \"feature_scaling\" dans le cadre de ce projet puisque mes features sont déjà des bêtas."
   ]
  },
  {
   "cell_type": "code",
   "execution_count": 68,
   "id": "5668683b",
   "metadata": {},
   "outputs": [],
   "source": [
    "#Importation des modules qui seront utilisés \n",
    "import pandas as pd \n",
    "import numpy as np\n",
    "import sklearn \n",
    "%matplotlib inline\n",
    "import matplotlib\n",
    "import matplotlib.pyplot as plt\n",
    "from sklearn import linear_model\n",
    "import plotly.express as px\n",
    "\n",
    "#let's create dataframe from Excel file\n",
    "df = pd.read_excel(\"JeanSimonFortin_données_psy4016-H22_20220211_AXIAL_data (2).xlsx\", header=None)\n",
    "\n",
    " \n",
    "\n",
    "#Malheureusement, le nombre de colonnes maximum dans sqlite3 est de 2000 colonnes, alors que j'en ai beaucoup plus que cela.\n",
    "#https://www.sqlite.org/limits.html#max_column. Je ne peux donc pas utiliser sqlite3 pour mon projet. pour démontrer ma compréhension,\n",
    "#je ai tout de meme fait un code  permettant de transformer les 10 premières colonnes de mes données en sqlite3 afin de ne \n",
    "#pas perdre mes points pour sqlite3. on voit ici que j'ai créé la fonction from_df_to_sql() qui me permet de transférer mon dataframe vers sqlite3.\n",
    "#voici de code en commentaire ci-bas, aveec la query à la fin!\n",
    "\n",
    "#import sqlite3 as sq\n",
    "#df = df.iloc[2:,1:11]\n",
    "\n",
    "#write my dataframe ti sql\n",
    "#def from_df_to_sql():\n",
    "#    table_name = \"Gaambling_IRMf\" \n",
    "#    conn = sq.connect('{}.sqlite'.format(table_name)) # creates file\n",
    "#    df.to_sql(table_name, conn, if_exists='replace', index=False) # writes to file\n",
    "#    conn.commit()\n",
    "#    conn.close() # good practice: close connection\n",
    "     \n",
    "#from_df_to_sql()\n"
   ]
  },
  {
   "cell_type": "code",
   "execution_count": 71,
   "id": "bbe4f1ec",
   "metadata": {},
   "outputs": [],
   "source": [
    "#UTILISATION D'AU MOINS UNE CLASSE!!!!!!!\n",
    "class table_preprocessing():\n",
    "    def drop_colomuns_Y(df):\n",
    "        Y_column_selection = df[1]\n",
    "        Y = Y_column_selection.drop([0,1], axis=0)\n",
    "        return Y\n",
    "    \n",
    "    def zero_index_Y(Y):\n",
    "        Y.index = [np.arange(0,Y.shape[0])]\n",
    "        return Y\n",
    " \n",
    "    def drop_colomuns_lines_X(df):\n",
    "        X_drop_columns= df.drop([0,1], axis=1)\n",
    "        X= X_drop_columns.drop([0,1], axis=0)\n",
    "        return X\n",
    "        \n",
    "    def zero_index_X(X):    \n",
    "        X.index = [np.arange(0,X.shape[0])]\n",
    "        X.columns = [np.arange(0,X.shape[1])] \n",
    "        return X"
   ]
  },
  {
   "cell_type": "code",
   "execution_count": 72,
   "id": "bf4126f4",
   "metadata": {},
   "outputs": [],
   "source": [
    "#let's go ahead and create a table y (outcome) and a table x (predictors)\n",
    "#Table Y (Outcome\n",
    "\n",
    "#ici on sélectionne la deuxième colonne (celle des outcomes) et on retire les 2 premières lgines car ce ne sont pas des données\n",
    "Y = table_preprocessing.drop_colomuns_Y(df)\n",
    "#ensuite, on recrée un index qui débute à 0.\n",
    "Y = table_preprocessing.zero_index_Y(Y)\n",
    "\n",
    "\n",
    "#Table X (predictors).\n",
    "#ici, on drop les 2 premières colonnes et les 2 premières lignes car ce ne sont pas des données\n",
    "X = table_preprocessing.drop_colomuns_lines_X(df) \n",
    "#ensuite, on recrée un index qui débute à 0.\n",
    "X = table_preprocessing.zero_index_X(X) "
   ]
  },
  {
   "cell_type": "code",
   "execution_count": 73,
   "id": "94d13dc7",
   "metadata": {},
   "outputs": [
    {
     "name": "stdout",
     "output_type": "stream",
     "text": [
      "X is printed and afterward Y is printed\n",
      "         0          1          2            3            4          5     \\\n",
      "0    0.006275  -0.003967  -0.005363    -0.004504     0.003862   0.000293   \n",
      "1    0.007313    0.00792   0.006078     0.004551     0.011269   0.013502   \n",
      "2    0.005659  -0.000202   0.002567     0.004891     0.003183  -0.001077   \n",
      "3   -0.000823   0.000244  -0.000497      0.00224    -0.004415  -0.003145   \n",
      "4   -0.019375  -0.010769   -0.00742    -0.008265    -0.008169   0.001163   \n",
      "5   -0.004004  -0.005706  -0.007355     0.004315    -0.007077  -0.005296   \n",
      "6    0.002165    0.00579   0.007617     0.008769    -0.000456   0.001374   \n",
      "7   -0.004435  -0.002592  -0.007576    -0.009347    -0.003215   0.004614   \n",
      "8    0.028019    0.02068   0.016292     0.009649     0.016247   0.016205   \n",
      "9   -0.001648   0.003611   0.000269     0.000472     0.000734  -0.004867   \n",
      "11   0.008309   0.006597   0.002673    -0.000896     0.007106   0.005596   \n",
      "12  -0.000514  -0.003638  -0.004901   8.2387e-05     0.000974  -0.000923   \n",
      "13   0.005953   0.014812   0.017377     0.013668     0.007095   0.001866   \n",
      "14  -0.001454  -0.005374  -0.007436    -0.001615     0.004297   0.008733   \n",
      "15  -0.009829  -0.002553   0.002576     0.006868     -0.00357   -0.00502   \n",
      "16  -0.001422    0.00162  -0.000414  -7.2871e-05    -0.001245  -0.001045   \n",
      "17   0.000676   0.002902   0.003475     0.003384    -0.000199   0.000804   \n",
      "18    -0.0222  -0.022611  -0.020799    -0.024315    -0.022912  -0.025173   \n",
      "19  -0.002365   0.003627   0.007977     0.010584    -0.012477  -0.015875   \n",
      "20  -0.028994  -0.013432  -0.000555     -0.00227    -0.007213   0.000484   \n",
      "21   0.007579   0.007116   0.008284     0.010083     0.000759  -0.002266   \n",
      "22  -0.018878  -0.014107   -0.00504     0.004133    -0.015288  -0.016314   \n",
      "23   0.002067  -0.003921  -0.008012    -0.005146    -0.002823  -0.002216   \n",
      "24  -0.003478   0.003038   0.004943      0.00212    -0.002872  -0.001077   \n",
      "25   0.001534  -0.002839  -0.001195     0.000749     0.001669  -0.003328   \n",
      "26  -0.002096  -0.002487   0.001041     0.002243  -2.8041e-05  -0.000868   \n",
      "27  -0.005312   0.000191   0.003563     0.001208     0.003817   0.009242   \n",
      "28  -0.000479  -0.002415    0.00065     0.013612     0.003828   0.000612   \n",
      "29   0.000291  -0.004554  -0.003825    -0.004186     0.002895   0.002575   \n",
      "30   0.003555   0.004302   0.003131     0.000329  -7.8704e-05  -0.001455   \n",
      "31   0.011397   0.005143    0.00425      0.00316     0.005941   0.004171   \n",
      "32   0.001227   0.000417  -0.003078    -0.005611      0.00242  -0.000277   \n",
      "33  -0.003631   -0.00357   -0.00445      0.00309    -0.004159  -0.008365   \n",
      "34   0.002518   0.000451  -0.000855    -0.000825     0.002763   0.002649   \n",
      "35  -0.007485   0.000358   0.007007     0.006267     0.005011   0.003875   \n",
      "36  -0.011162  -0.008065  -0.000682     0.001022    -0.006944  -0.006678   \n",
      "37  -0.001874  -0.002412  -0.007319    -0.004656     0.007577   0.010179   \n",
      "38   0.002728  -0.000563  -0.000866     0.000167       0.0005   0.002918   \n",
      "39  -0.007374  -0.002602   0.003119     0.008237     0.007006   0.003781   \n",
      "40  -0.010672  -0.017334  -0.010997    -0.003356     0.004929   0.002467   \n",
      "41   0.000606    0.00304   0.007335     0.007647     0.005218   0.007183   \n",
      "42  -0.014135  -0.010085   0.000514     0.001002    -0.021024  -0.020934   \n",
      "43   0.020281   0.011949   0.002417     0.002441     0.002317   0.007947   \n",
      "44   0.005984   0.007208   0.007953     0.008741     0.003787   0.007849   \n",
      "45   0.004809  -0.003612  -0.004557    -0.004127    -0.001778  -0.005978   \n",
      "\n",
      "         6            7           8          9     ...        7952       7953  \\\n",
      "0   -0.004128    -0.004149   -0.001351  -0.000344  ...    -0.00382  -0.005155   \n",
      "1    0.007162     0.003882    0.003142   0.002993  ...   -0.000434  -0.001359   \n",
      "2   -0.003651      -0.0011   -0.003692   -0.00709  ...     0.00074   0.004343   \n",
      "3   -0.000566  -2.1909e-05    0.004355   0.009266  ...    0.004145   0.002927   \n",
      "4    0.007929     0.013296    0.002745  -0.013076  ...    0.001615  -0.000918   \n",
      "5   -0.009064    -0.007696    0.006394    0.02573  ...    0.007954   0.000671   \n",
      "6    0.005908     0.002668    0.001837   0.001173  ...   -0.000408   0.001109   \n",
      "7    0.009108     0.005468   -0.001288  -0.005972  ...   -0.003691  -0.000403   \n",
      "8    0.012638     0.010279     0.00475  -0.002032  ...    -0.00032   0.000237   \n",
      "9   -0.003352     0.001924    0.002464   0.003846  ...    0.002064  -0.002373   \n",
      "11   0.004019     0.003849    -0.00103   0.000308  ...    0.001718  -0.001851   \n",
      "12  -0.002043     0.006061    0.008438   0.005355  ...   -0.004855  -0.003054   \n",
      "13   0.010151     0.008569    0.006276   0.005257  ...    0.000624  -0.001302   \n",
      "14   0.006689      0.00243   -0.001262  -0.003681  ...    0.000997   0.001653   \n",
      "15  -0.003342     0.001034    0.003572   0.008361  ...    0.000895   0.000517   \n",
      "16  -0.001383    -0.002745   -0.001605  -0.000294  ...   -0.000681  -0.002207   \n",
      "17   0.002029     0.002535    0.005837   0.003188  ...   -0.000977   0.001381   \n",
      "18  -0.028897    -0.022496   -0.019073  -0.016309  ...    0.001739   0.003099   \n",
      "19  -0.012365    -0.001914    0.009279   0.014353  ...     0.00135  -0.002366   \n",
      "20   0.006148     0.003536    0.003016   0.005125  ...    0.005043   0.001033   \n",
      "21   0.002494     0.001774  2.5768e-05   0.000423  ...   -0.001431  -0.001322   \n",
      "22  -0.014034     -0.00768   -0.004326  -0.007881  ...   -0.002271  -0.003103   \n",
      "23   0.000557    -0.003554   -0.001713  -0.001134  ...    -0.00052  -0.004711   \n",
      "24    0.00441     0.010411    0.013177   0.014451  ...    0.001996   0.000576   \n",
      "25  -0.006248    -0.004832   -0.004281  -0.006321  ...   -0.001383   0.001169   \n",
      "26  -0.000229     0.000774    0.005595   0.006067  ...    0.002763   0.000777   \n",
      "27   0.008517     0.004377    0.000765  -0.005215  ...   -0.002328  -0.003094   \n",
      "28  -0.001605    -0.001783    0.011033   0.030898  ...    0.000564  -0.003109   \n",
      "29   0.004949     0.003172    0.001522   0.004108  ...   -0.003976  -0.003883   \n",
      "30   0.000947     0.000505    0.000796   0.002375  ...   -0.001869   -0.00042   \n",
      "31   0.004865      0.00645    0.006043   0.002921  ...   -0.001449  -0.002866   \n",
      "32   -0.00139     0.002941    0.004037   0.005284  ...    0.005507   0.003718   \n",
      "33  -0.006959    -0.002115   -0.001924  -0.001346  ...      0.0015  -0.002682   \n",
      "34   0.000538    -0.001278   -0.002543   -0.00495  ...  1.5329e-05   0.000249   \n",
      "35   0.010207     0.018611    0.018764   0.013093  ...    0.002829  -0.003358   \n",
      "36  -0.002368      0.00035  7.3773e-05   0.004367  ...    0.001008  -0.000904   \n",
      "37   0.009577     0.009097    0.004991    0.00227  ...     0.00038   0.001043   \n",
      "38   0.006185     0.006714    0.004795   0.006078  ...   -0.001187   -0.00359   \n",
      "39   0.000548     -0.00237    -0.00138   0.001941  ...    0.001079  -0.000438   \n",
      "40  -0.004728    -0.006269   -0.005656  -0.010091  ...    0.001946  -0.000646   \n",
      "41   0.004527     0.004511    0.001536    0.00362  ...   -0.005774  -0.005508   \n",
      "42  -0.017534    -0.009426    0.001706   0.002213  ...   -0.000104  -0.002757   \n",
      "43   0.007058     0.005288    0.002566   0.004335  ...    0.003543   0.001541   \n",
      "44   0.011572     0.011344     0.00633   0.005374  ...   -0.000239   0.001412   \n",
      "45  -0.003234    -0.005913   -0.005143  -0.004115  ...   -0.001239   0.000613   \n",
      "\n",
      "         7954         7955         7956       7957         7958       7959  \\\n",
      "0   -0.001201    -0.001509    -0.001368  -0.003894    -0.003514  -0.002281   \n",
      "1    0.000259    -0.005663    -0.002222  -0.001326    -0.001631  -0.004049   \n",
      "2   -0.004393    -0.002918    -0.001286   0.000237     0.001098   0.003984   \n",
      "3    0.001283    -0.000727    -0.002172  -0.000372     0.001409   0.000434   \n",
      "4    0.005846     0.004744     0.006281    0.00653     0.006592   0.001143   \n",
      "5   -0.009584     -0.00491    -0.005215  -0.004079    -0.002933  -0.006195   \n",
      "6   -0.006906    -0.002368    -0.002586   0.002682     0.001711     0.0004   \n",
      "7    0.004172     0.003579     -0.00021   0.001231     0.003807   0.004376   \n",
      "8    0.003785      0.00179    -0.002538  -0.005534    -0.007452  -0.003348   \n",
      "9    0.000567    -0.001538     0.000552  -0.000747    -0.000891   0.003538   \n",
      "11    0.00444     0.006577     0.002096   0.000731    -0.000898  -0.001437   \n",
      "12  -0.000696     0.000182     0.001177   0.001843     0.000603   0.002011   \n",
      "13    0.00287    -0.000724      -0.0005  -0.002054    -0.001076  -0.001493   \n",
      "14   0.003957     0.000768    -0.002889  -0.004282    -0.001386  -0.000337   \n",
      "15   -0.00258  -6.2463e-05     0.000974    0.00114  -2.5963e-05  -0.001398   \n",
      "16   0.002485     0.002056     0.000991   0.000911     0.004575    0.00359   \n",
      "17  -0.003101    -0.002076    -0.003781  -0.004294      -0.0032  -0.003077   \n",
      "18  -0.002384     0.000451     0.003879   0.002582     0.000186  -0.002053   \n",
      "19  -0.001825    -0.000463    -0.000857  -0.000487    -0.000218  -0.000514   \n",
      "20   -0.00068    -0.001818     0.000454   0.003264     0.003468   0.003044   \n",
      "21  -0.000282    -0.000391     0.002877   0.002362     0.002204   0.003573   \n",
      "22  -0.003815    -0.005165    -0.004799  -0.001177    -0.006133  -0.009608   \n",
      "23   0.000917    -0.000629  -2.6126e-05  -0.000227     0.000395   0.001967   \n",
      "24  -0.001364    -0.002326     -0.00123  -0.000567     0.001124   0.000219   \n",
      "25   0.002208      0.00143     0.002001   0.001049     0.001076   0.003955   \n",
      "26   0.001222     0.005553     0.008418   0.009183     0.008434   0.003008   \n",
      "27   0.005091     0.004208     0.007761   0.008371     0.008673   0.008957   \n",
      "28  -0.001683    -0.001224     0.002208    0.00255     0.001945   0.001522   \n",
      "29  -0.006851    -0.004149    -0.006382  -0.005585     -0.00882  -0.007173   \n",
      "30   0.005068     0.005598     0.002084    0.00026     0.000409   0.002144   \n",
      "31  -0.000342    -0.002005    -0.001869  -0.002486    -0.001479  -0.000418   \n",
      "32   0.002693     0.003556     0.004043   0.003822     0.001388   0.000194   \n",
      "33  -0.000236     0.002634    -0.002839   0.000484    -0.001608   0.004021   \n",
      "34  -0.002512    -0.001529   5.3385e-05   0.003323     0.003949   0.000305   \n",
      "35   0.004025     0.006275     0.007499   0.007274      0.00172   0.001961   \n",
      "36   0.002008    -0.000313    -0.001542   0.000762    -0.000286  -0.000774   \n",
      "37   0.000598     0.003873     0.000633   0.000338     0.002348   0.002764   \n",
      "38  -0.003377    -0.000382    -0.000647  -0.001507    -0.001792  -0.001286   \n",
      "39   0.005085     0.005473     0.003598  -0.001337    9.987e-05   0.000976   \n",
      "40  -0.001851    -0.001918    -0.005466  -0.005077     -0.00435  -0.002219   \n",
      "41   0.007192     0.006253     0.006946   0.006808     0.006734   0.005189   \n",
      "42  -0.001069    -0.001281    -0.003254  -0.005268    -0.002166  -0.002754   \n",
      "43  -0.002488    -0.001922     -0.00231  -0.001464    -0.002324  -0.001541   \n",
      "44  -0.007469    -0.009136    -0.009295  -0.010137    -0.011893  -0.009977   \n",
      "45   0.000217    -0.000806    -0.000559   0.000812     0.003353   0.003281   \n",
      "\n",
      "         7960         7961  \n",
      "0   -0.000373  -3.7925e-05  \n",
      "1   -0.003652    -0.003717  \n",
      "2    0.002611     0.001897  \n",
      "3    0.000974     0.001492  \n",
      "4    0.001196     0.000242  \n",
      "5    -0.00659    -0.003206  \n",
      "6    0.001136     0.005495  \n",
      "7    0.006855     0.005202  \n",
      "8     0.00028     0.004306  \n",
      "9    0.004749     0.007211  \n",
      "11  -0.004249      0.00085  \n",
      "12   0.001124     0.003248  \n",
      "13   0.000225  -6.0821e-05  \n",
      "14  -0.001771     -0.00062  \n",
      "15  -0.002822    -0.000607  \n",
      "16   0.003957     0.001922  \n",
      "17  -0.001613    -0.002776  \n",
      "18  -0.002115    -0.002868  \n",
      "19   0.000774    -0.000968  \n",
      "20   0.003174     0.002315  \n",
      "21   0.002913     0.003981  \n",
      "22  -0.008862    -0.005256  \n",
      "23   0.001979      0.00064  \n",
      "24  -0.001055    -0.003401  \n",
      "25   0.002752     0.001517  \n",
      "26   0.002991     0.001914  \n",
      "27   0.006409     0.006068  \n",
      "28   0.001908     0.002404  \n",
      "29  -0.004192    -0.001787  \n",
      "30   0.002191     0.001619  \n",
      "31  -0.000869    -0.000996  \n",
      "32   0.002962     0.000551  \n",
      "33   0.004428     0.003246  \n",
      "34  -0.001827    -0.002236  \n",
      "35   0.001577     0.004631  \n",
      "36  -0.000617    -0.001272  \n",
      "37   0.002329     0.002614  \n",
      "38  -0.000417     0.001974  \n",
      "39   0.000572     0.001312  \n",
      "40  -0.001372     0.000678  \n",
      "41   0.000704     0.002791  \n",
      "42  -0.005229    -0.002886  \n",
      "43   0.000189    -0.001558  \n",
      "44  -0.005166    -0.004516  \n",
      "45   0.002638     0.001278  \n",
      "\n",
      "[45 rows x 7962 columns]\n",
      "0     1\n",
      "1     1\n",
      "2     1\n",
      "3     1\n",
      "4     1\n",
      "5     1\n",
      "6     1\n",
      "7     1\n",
      "8     1\n",
      "9     1\n",
      "11    1\n",
      "12    1\n",
      "13    1\n",
      "14    1\n",
      "15    1\n",
      "16    1\n",
      "17    1\n",
      "18    1\n",
      "19    1\n",
      "20    1\n",
      "21    1\n",
      "22    1\n",
      "23    0\n",
      "24    0\n",
      "25    0\n",
      "26    0\n",
      "27    0\n",
      "28    0\n",
      "29    0\n",
      "30    0\n",
      "31    0\n",
      "32    0\n",
      "33    0\n",
      "34    0\n",
      "35    0\n",
      "36    0\n",
      "37    0\n",
      "38    0\n",
      "39    0\n",
      "40    0\n",
      "41    0\n",
      "42    0\n",
      "43    0\n",
      "44    0\n",
      "45    0\n",
      "Name: 1, dtype: object\n"
     ]
    }
   ],
   "source": [
    "#afin de démontrer ma capacité à utiliser une structure DE PIPELINE (CRITÈRE DE CORRECTION), j'ai choisi de mettre ma fonction\n",
    "# qui gère les erreurs dans un fichier ipynb externe et de la rouler avec le code suivant:\n",
    "%run \"error_handling.ipynb\"\n",
    " \n",
    "#j'ai laissé mon script de gesiton d'erreur en commentaire ci-bas pour éviter au correcteur d'avoir à aller \n",
    "#dans l'autre fichier:    \n",
    "    \n",
    "#GESTION DES ERREURS\n",
    "\n",
    "#for i in range(0, len(X.columns)): #pour les toutes les colonnes\n",
    " #   column = X[i].values.tolist() # on transforme la colonne en une liste\n",
    "  #  flat_list = [item for sublist in column for item in sublist]\n",
    "   # for x in flat_list:\n",
    "#       try:\n",
    "#           float(x)\n",
    "#       except:\n",
    "#           X = X.drop([i], axis=1) \n",
    "            \n",
    "#TABLEAU D'OUTCOMES (Y)\n",
    "#Ici, je suis supposé avoir seulement des 0 et des 1. Dans l'éventualité où il y aurait des valeurs autres que 0 et 1, \n",
    "#mon code va transformer ces valeurs en \"missing values\". Ces valeurs seront traités à l'étape suivante.\n",
    "\n",
    "#column = Y.values.tolist() \n",
    "#list_of_missing = []\n",
    "#compteur = 0\n",
    "#for x in column :\n",
    " #   if x == '1' or x == '0' :\n",
    "  #      pass\n",
    "   # else:\n",
    "    #    list_of_missing.append(int(compteur))\n",
    "    #compteur = compteur + 1    \n",
    "    \n",
    "#drop = list_of_missing\n",
    "#Y= Y.drop(drop, axis=0)"
   ]
  },
  {
   "cell_type": "code",
   "execution_count": 74,
   "id": "11311f3a",
   "metadata": {},
   "outputs": [],
   "source": [
    "#PRISE EN CONSIDÉRATION DE LA PRÉSENCE POTENTIELLE DE VALEURS MANQUANTES \n",
    "\n",
    "# TABLEAU PRÉDICTEURS \n",
    "#Comme j'ai une quantité énorme de features et peu de valeurs manquantes,\n",
    "#je peux me permettre de supprimer les colonnes où au moins un élément est manquant.\n",
    "\n",
    "#UTILISATION DE LA FONCTION ANONYME ICI (LAMBDA!!!!!) \n",
    "#ici on supprime les colonnes vides DANS X\n",
    "dropping_functionX = lambda X: X.dropna(axis='columns') \n",
    "X = dropping_functionX(X)\n",
    "\n",
    "# pour mon tableau Y \n",
    "dropping_functionY = lambda Y: Y.dropna(axis= 0) \n",
    "Y = dropping_functionY(Y) "
   ]
  },
  {
   "cell_type": "markdown",
   "id": "44f9a6a7",
   "metadata": {},
   "source": [
    "## Apprentissage supervisé"
   ]
  },
  {
   "cell_type": "code",
   "execution_count": 75,
   "id": "6f70ca78",
   "metadata": {},
   "outputs": [],
   "source": [
    "#Importantions\n",
    "from sklearn.pipeline import make_pipeline, Pipeline\n",
    "from sklearn import preprocessing\n",
    "from sklearn.linear_model import LogisticRegressionCV\n",
    "from sklearn.ensemble import RandomForestClassifier\n",
    "from sklearn.manifold import TSNE\n",
    "import seaborn as sns\n",
    "\n",
    "#CROSS-VALIDATION\n",
    "from sklearn.model_selection import train_test_split\n",
    "X_train, X_test, y_train, y_test = train_test_split(X, Y, test_size=0.3, random_state=999)\n",
    "\n",
    "#CRÉATION DE PIPELINES (les fichiers ont une structure de pipeline )\n",
    "\n",
    "pipeline_logistic_regression=Pipeline([('scaler1', sklearn.preprocessing.StandardScaler()),('logisticreg_classifier', \n",
    "                             linear_model.LogisticRegressionCV(cv=3, penalty='elasticnet', l1_ratios=[0.1, 0.5, 0.9],\n",
    "                                                               solver='saga',max_iter=5000))])\n",
    "pipeline_random_forest=Pipeline([('scaler2', sklearn.preprocessing.StandardScaler()),('random_forest_classifier', \n",
    "                             RandomForestClassifier())])\n",
    "pipelines = [pipeline_logistic_regression,pipeline_random_forest]\n",
    "\n",
    "best_accuracy = 0.0\n",
    "best_classifier = 0\n",
    "best_pipeline = \"\""
   ]
  },
  {
   "cell_type": "code",
   "execution_count": 77,
   "id": "d44e55b5",
   "metadata": {},
   "outputs": [],
   "source": [
    "#dictionnare de pipelines et classifier\n",
    "pipe_dict = {0: 'C\\'est la régression logistique ',1: 'C\\'est random_forest '} #formattage des chaines utilisé ici"
   ]
  },
  {
   "cell_type": "code",
   "execution_count": 78,
   "id": "7e4e6655",
   "metadata": {},
   "outputs": [
    {
     "name": "stderr",
     "output_type": "stream",
     "text": [
      "C:\\Users\\Utilisateur\\AppData\\Local\\Programs\\Python\\Python310\\lib\\site-packages\\sklearn\\utils\\validation.py:1688: FutureWarning:\n",
      "\n",
      "Feature names only support names that are all strings. Got feature names with dtypes: ['tuple']. An error will be raised in 1.2.\n",
      "\n",
      "C:\\Users\\Utilisateur\\AppData\\Local\\Programs\\Python\\Python310\\lib\\site-packages\\sklearn\\utils\\validation.py:1688: FutureWarning:\n",
      "\n",
      "Feature names only support names that are all strings. Got feature names with dtypes: ['tuple']. An error will be raised in 1.2.\n",
      "\n",
      "C:\\Users\\Utilisateur\\AppData\\Local\\Programs\\Python\\Python310\\lib\\site-packages\\sklearn\\linear_model\\_sag.py:352: ConvergenceWarning:\n",
      "\n",
      "The max_iter was reached which means the coef_ did not converge\n",
      "\n",
      "C:\\Users\\Utilisateur\\AppData\\Local\\Programs\\Python\\Python310\\lib\\site-packages\\sklearn\\linear_model\\_sag.py:352: ConvergenceWarning:\n",
      "\n",
      "The max_iter was reached which means the coef_ did not converge\n",
      "\n",
      "C:\\Users\\Utilisateur\\AppData\\Local\\Programs\\Python\\Python310\\lib\\site-packages\\sklearn\\utils\\validation.py:1688: FutureWarning:\n",
      "\n",
      "Feature names only support names that are all strings. Got feature names with dtypes: ['tuple']. An error will be raised in 1.2.\n",
      "\n",
      "C:\\Users\\Utilisateur\\AppData\\Local\\Programs\\Python\\Python310\\lib\\site-packages\\sklearn\\utils\\validation.py:1688: FutureWarning:\n",
      "\n",
      "Feature names only support names that are all strings. Got feature names with dtypes: ['tuple']. An error will be raised in 1.2.\n",
      "\n",
      "C:\\Users\\Utilisateur\\AppData\\Local\\Programs\\Python\\Python310\\lib\\site-packages\\sklearn\\utils\\validation.py:1688: FutureWarning:\n",
      "\n",
      "Feature names only support names that are all strings. Got feature names with dtypes: ['tuple']. An error will be raised in 1.2.\n",
      "\n",
      "C:\\Users\\Utilisateur\\AppData\\Local\\Programs\\Python\\Python310\\lib\\site-packages\\sklearn\\utils\\validation.py:1688: FutureWarning:\n",
      "\n",
      "Feature names only support names that are all strings. Got feature names with dtypes: ['tuple']. An error will be raised in 1.2.\n",
      "\n",
      "C:\\Users\\Utilisateur\\AppData\\Local\\Programs\\Python\\Python310\\lib\\site-packages\\sklearn\\utils\\validation.py:1688: FutureWarning:\n",
      "\n",
      "Feature names only support names that are all strings. Got feature names with dtypes: ['tuple']. An error will be raised in 1.2.\n",
      "\n"
     ]
    },
    {
     "name": "stdout",
     "output_type": "stream",
     "text": [
      "C'est la régression logistique  Test Accuracy:0.42857142857142855\n",
      "C'est random_forest  Test Accuracy:0.2857142857142857\n"
     ]
    },
    {
     "name": "stderr",
     "output_type": "stream",
     "text": [
      "C:\\Users\\Utilisateur\\AppData\\Local\\Programs\\Python\\Python310\\lib\\site-packages\\sklearn\\utils\\validation.py:1688: FutureWarning:\n",
      "\n",
      "Feature names only support names that are all strings. Got feature names with dtypes: ['tuple']. An error will be raised in 1.2.\n",
      "\n",
      "C:\\Users\\Utilisateur\\AppData\\Local\\Programs\\Python\\Python310\\lib\\site-packages\\sklearn\\utils\\validation.py:1688: FutureWarning:\n",
      "\n",
      "Feature names only support names that are all strings. Got feature names with dtypes: ['tuple']. An error will be raised in 1.2.\n",
      "\n",
      "C:\\Users\\Utilisateur\\AppData\\Local\\Programs\\Python\\Python310\\lib\\site-packages\\sklearn\\utils\\validation.py:1688: FutureWarning:\n",
      "\n",
      "Feature names only support names that are all strings. Got feature names with dtypes: ['tuple']. An error will be raised in 1.2.\n",
      "\n"
     ]
    },
    {
     "name": "stdout",
     "output_type": "stream",
     "text": [
      "Classifier_with_best_accuracy:C'est random_forest \n"
     ]
    }
   ],
   "source": [
    "for pipe in pipelines:\n",
    "    pipe.fit(X_train,y_train)\n",
    "    \n",
    "    \n",
    "for i, model in enumerate(pipelines):\n",
    "    print(\"{} Test Accuracy:{}\".format(pipe_dict[i], model.score(X_test,y_test))) # Le formattage des chaînes est ENCORE utilisé \n",
    "    #ici afin de démontre ma compréhension du concept de formattage des chaînes. \n",
    "    \n",
    "    \n",
    "for i,mode in enumerate(pipelines):\n",
    "    if model.score(X_test, y_test)>best_accuracy:\n",
    "        best_accuracyacyacyt_accurracy = model.score(X_test,y_test)\n",
    "        best_pipeline = model\n",
    "        best_classifier = i\n",
    "print('Classifier_with_best_accuracy:{}'.format(pipe_dict[best_classifier])) #utilisation du formattage des chaînes ici    "
   ]
  },
  {
   "cell_type": "markdown",
   "id": "54466bce",
   "metadata": {},
   "source": [
    "# Graphique pour apprentissage supervisé (2%)"
   ]
  },
  {
   "cell_type": "code",
   "execution_count": 79,
   "id": "19d6c70e",
   "metadata": {},
   "outputs": [
    {
     "name": "stderr",
     "output_type": "stream",
     "text": [
      "C:\\Users\\Utilisateur\\AppData\\Local\\Programs\\Python\\Python310\\lib\\site-packages\\sklearn\\manifold\\_t_sne.py:780: FutureWarning:\n",
      "\n",
      "The default initialization in TSNE will change from 'random' to 'pca' in 1.2.\n",
      "\n",
      "C:\\Users\\Utilisateur\\AppData\\Local\\Programs\\Python\\Python310\\lib\\site-packages\\sklearn\\utils\\validation.py:1688: FutureWarning:\n",
      "\n",
      "Feature names only support names that are all strings. Got feature names with dtypes: ['tuple']. An error will be raised in 1.2.\n",
      "\n"
     ]
    },
    {
     "data": {
      "text/plain": [
       "<AxesSubplot:xlabel='x_tsne', ylabel='y_tsne'>"
      ]
     },
     "execution_count": 79,
     "metadata": {},
     "output_type": "execute_result"
    },
    {
     "data": {
      "image/png": "[encoded data removed]",
      "text/plain": [
       "<Figure size 432x288 with 1 Axes>"
      ]
     },
     "metadata": {
      "needs_background": "light"
     },
     "output_type": "display_data"
    }
   ],
   "source": [
    "#il va sans dire que dans un cadre de données comme le mien, il ne ferait aucun sens de faire un graphique avec plus\n",
    "#de 7900 dimensions, j'ai donc choisi de d'utiliser TSNE pour plotter mes données sur deux dimensions.\n",
    "\n",
    "m = TSNE(learning_rate=50)\n",
    "\n",
    "tsne_features = m.fit_transform(X)\n",
    "\n",
    "\n",
    "x_tsne = tsne_features[:,0] \n",
    "\n",
    "y_tsne = tsne_features[:,1]\n",
    "\n",
    "df_tsne = pd.DataFrame()\n",
    "df_tsne['x_tsne'] = x_tsne\n",
    "df_tsne['y_tsne'] = y_tsne\n",
    "df_tsne\n",
    "\n",
    "sns.scatterplot(x='x_tsne',y='y_tsne', data = df_tsne)"
   ]
  },
  {
   "cell_type": "code",
   "execution_count": 80,
   "id": "8e1bff53",
   "metadata": {},
   "outputs": [
    {
     "name": "stderr",
     "output_type": "stream",
     "text": [
      "C:\\Users\\Utilisateur\\AppData\\Local\\Programs\\Python\\Python310\\lib\\site-packages\\sklearn\\utils\\validation.py:1688: FutureWarning:\n",
      "\n",
      "Feature names only support names that are all strings. Got feature names with dtypes: ['tuple']. An error will be raised in 1.2.\n",
      "\n",
      "C:\\Users\\Utilisateur\\AppData\\Local\\Programs\\Python\\Python310\\lib\\site-packages\\sklearn\\utils\\deprecation.py:87: FutureWarning:\n",
      "\n",
      "Function plot_confusion_matrix is deprecated; Function `plot_confusion_matrix` is deprecated in 1.0 and will be removed in 1.2. Use one of the class methods: ConfusionMatrixDisplay.from_predictions or ConfusionMatrixDisplay.from_estimator.\n",
      "\n",
      "C:\\Users\\Utilisateur\\AppData\\Local\\Programs\\Python\\Python310\\lib\\site-packages\\sklearn\\utils\\validation.py:1688: FutureWarning:\n",
      "\n",
      "Feature names only support names that are all strings. Got feature names with dtypes: ['tuple']. An error will be raised in 1.2.\n",
      "\n"
     ]
    },
    {
     "data": {
      "image/png": "[encoded data removed]",
      "text/plain": [
       "<Figure size 432x288 with 2 Axes>"
      ]
     },
     "metadata": {
      "needs_background": "light"
     },
     "output_type": "display_data"
    }
   ],
   "source": [
    "#let's import classification_report and confusion matrix\n",
    "from sklearn.metrics import classification_report\n",
    "from sklearn.metrics import plot_confusion_matrix\n",
    "\n",
    "\n",
    "clf = LogisticRegressionCV()\n",
    "clf.fit(X_train,y_train)\n",
    "disp = plot_confusion_matrix(clf, X_test,y_test,cmap='Blues')"
   ]
  },
  {
   "cell_type": "markdown",
   "id": "ce794e8b",
   "metadata": {},
   "source": [
    "# Apprentissage NON-supervisé"
   ]
  },
  {
   "cell_type": "code",
   "execution_count": 81,
   "id": "52b6ced9",
   "metadata": {},
   "outputs": [
    {
     "name": "stderr",
     "output_type": "stream",
     "text": [
      "C:\\Users\\Utilisateur\\AppData\\Local\\Programs\\Python\\Python310\\lib\\site-packages\\sklearn\\utils\\validation.py:1688: FutureWarning:\n",
      "\n",
      "Feature names only support names that are all strings. Got feature names with dtypes: ['tuple']. An error will be raised in 1.2.\n",
      "\n",
      "C:\\Users\\Utilisateur\\AppData\\Local\\Programs\\Python\\Python310\\lib\\site-packages\\sklearn\\utils\\validation.py:1688: FutureWarning:\n",
      "\n",
      "Feature names only support names that are all strings. Got feature names with dtypes: ['tuple']. An error will be raised in 1.2.\n",
      "\n"
     ]
    },
    {
     "data": {
      "text/html": [
       "<div>\n",
       "<style scoped>\n",
       "    .dataframe tbody tr th:only-of-type {\n",
       "        vertical-align: middle;\n",
       "    }\n",
       "\n",
       "    .dataframe tbody tr th {\n",
       "        vertical-align: top;\n",
       "    }\n",
       "\n",
       "    .dataframe thead th {\n",
       "        text-align: right;\n",
       "    }\n",
       "</style>\n",
       "<table border=\"1\" class=\"dataframe\">\n",
       "  <thead>\n",
       "    <tr style=\"text-align: right;\">\n",
       "      <th></th>\n",
       "      <th>PC1</th>\n",
       "      <th>PC2</th>\n",
       "    </tr>\n",
       "  </thead>\n",
       "  <tbody>\n",
       "    <tr>\n",
       "      <th>0</th>\n",
       "      <td>-0.216211</td>\n",
       "      <td>-0.046171</td>\n",
       "    </tr>\n",
       "    <tr>\n",
       "      <th>1</th>\n",
       "      <td>-0.016777</td>\n",
       "      <td>0.036251</td>\n",
       "    </tr>\n",
       "    <tr>\n",
       "      <th>2</th>\n",
       "      <td>-0.078678</td>\n",
       "      <td>0.038075</td>\n",
       "    </tr>\n",
       "    <tr>\n",
       "      <th>3</th>\n",
       "      <td>0.072093</td>\n",
       "      <td>0.032669</td>\n",
       "    </tr>\n",
       "    <tr>\n",
       "      <th>4</th>\n",
       "      <td>0.018297</td>\n",
       "      <td>0.280627</td>\n",
       "    </tr>\n",
       "    <tr>\n",
       "      <th>5</th>\n",
       "      <td>-0.175509</td>\n",
       "      <td>-0.112788</td>\n",
       "    </tr>\n",
       "    <tr>\n",
       "      <th>6</th>\n",
       "      <td>-0.156633</td>\n",
       "      <td>-0.068616</td>\n",
       "    </tr>\n",
       "    <tr>\n",
       "      <th>7</th>\n",
       "      <td>0.090655</td>\n",
       "      <td>-0.008946</td>\n",
       "    </tr>\n",
       "    <tr>\n",
       "      <th>8</th>\n",
       "      <td>0.105073</td>\n",
       "      <td>0.013447</td>\n",
       "    </tr>\n",
       "    <tr>\n",
       "      <th>9</th>\n",
       "      <td>0.043433</td>\n",
       "      <td>0.022018</td>\n",
       "    </tr>\n",
       "    <tr>\n",
       "      <th>10</th>\n",
       "      <td>0.161110</td>\n",
       "      <td>-0.119465</td>\n",
       "    </tr>\n",
       "    <tr>\n",
       "      <th>11</th>\n",
       "      <td>0.028745</td>\n",
       "      <td>0.035377</td>\n",
       "    </tr>\n",
       "    <tr>\n",
       "      <th>12</th>\n",
       "      <td>0.246155</td>\n",
       "      <td>-0.195574</td>\n",
       "    </tr>\n",
       "    <tr>\n",
       "      <th>13</th>\n",
       "      <td>-0.110115</td>\n",
       "      <td>0.083278</td>\n",
       "    </tr>\n",
       "    <tr>\n",
       "      <th>14</th>\n",
       "      <td>-0.029138</td>\n",
       "      <td>0.012099</td>\n",
       "    </tr>\n",
       "    <tr>\n",
       "      <th>15</th>\n",
       "      <td>0.019315</td>\n",
       "      <td>0.032727</td>\n",
       "    </tr>\n",
       "    <tr>\n",
       "      <th>16</th>\n",
       "      <td>-0.029517</td>\n",
       "      <td>-0.013338</td>\n",
       "    </tr>\n",
       "    <tr>\n",
       "      <th>17</th>\n",
       "      <td>-0.116296</td>\n",
       "      <td>0.005934</td>\n",
       "    </tr>\n",
       "    <tr>\n",
       "      <th>18</th>\n",
       "      <td>-0.053454</td>\n",
       "      <td>-0.078945</td>\n",
       "    </tr>\n",
       "    <tr>\n",
       "      <th>19</th>\n",
       "      <td>0.193979</td>\n",
       "      <td>-0.089688</td>\n",
       "    </tr>\n",
       "    <tr>\n",
       "      <th>20</th>\n",
       "      <td>0.045082</td>\n",
       "      <td>0.042663</td>\n",
       "    </tr>\n",
       "    <tr>\n",
       "      <th>21</th>\n",
       "      <td>-0.157012</td>\n",
       "      <td>0.029346</td>\n",
       "    </tr>\n",
       "    <tr>\n",
       "      <th>22</th>\n",
       "      <td>-0.023218</td>\n",
       "      <td>0.053218</td>\n",
       "    </tr>\n",
       "    <tr>\n",
       "      <th>23</th>\n",
       "      <td>-0.015634</td>\n",
       "      <td>-0.017355</td>\n",
       "    </tr>\n",
       "    <tr>\n",
       "      <th>24</th>\n",
       "      <td>0.008490</td>\n",
       "      <td>0.047096</td>\n",
       "    </tr>\n",
       "    <tr>\n",
       "      <th>25</th>\n",
       "      <td>0.001116</td>\n",
       "      <td>0.075474</td>\n",
       "    </tr>\n",
       "    <tr>\n",
       "      <th>26</th>\n",
       "      <td>0.051514</td>\n",
       "      <td>0.199753</td>\n",
       "    </tr>\n",
       "    <tr>\n",
       "      <th>27</th>\n",
       "      <td>-0.066858</td>\n",
       "      <td>-0.110142</td>\n",
       "    </tr>\n",
       "    <tr>\n",
       "      <th>28</th>\n",
       "      <td>-0.230491</td>\n",
       "      <td>-0.073841</td>\n",
       "    </tr>\n",
       "    <tr>\n",
       "      <th>29</th>\n",
       "      <td>0.045016</td>\n",
       "      <td>-0.013440</td>\n",
       "    </tr>\n",
       "    <tr>\n",
       "      <th>30</th>\n",
       "      <td>0.020338</td>\n",
       "      <td>0.010594</td>\n",
       "    </tr>\n",
       "    <tr>\n",
       "      <th>31</th>\n",
       "      <td>-0.005586</td>\n",
       "      <td>0.019779</td>\n",
       "    </tr>\n",
       "    <tr>\n",
       "      <th>32</th>\n",
       "      <td>0.238877</td>\n",
       "      <td>-0.021205</td>\n",
       "    </tr>\n",
       "    <tr>\n",
       "      <th>33</th>\n",
       "      <td>0.048892</td>\n",
       "      <td>-0.032067</td>\n",
       "    </tr>\n",
       "    <tr>\n",
       "      <th>34</th>\n",
       "      <td>-0.014070</td>\n",
       "      <td>0.036810</td>\n",
       "    </tr>\n",
       "    <tr>\n",
       "      <th>35</th>\n",
       "      <td>0.031781</td>\n",
       "      <td>-0.048635</td>\n",
       "    </tr>\n",
       "    <tr>\n",
       "      <th>36</th>\n",
       "      <td>0.049274</td>\n",
       "      <td>0.078095</td>\n",
       "    </tr>\n",
       "    <tr>\n",
       "      <th>37</th>\n",
       "      <td>-0.012565</td>\n",
       "      <td>0.029182</td>\n",
       "    </tr>\n",
       "    <tr>\n",
       "      <th>38</th>\n",
       "      <td>0.198415</td>\n",
       "      <td>0.045333</td>\n",
       "    </tr>\n",
       "    <tr>\n",
       "      <th>39</th>\n",
       "      <td>-0.057643</td>\n",
       "      <td>0.001272</td>\n",
       "    </tr>\n",
       "    <tr>\n",
       "      <th>40</th>\n",
       "      <td>0.079568</td>\n",
       "      <td>0.003406</td>\n",
       "    </tr>\n",
       "    <tr>\n",
       "      <th>41</th>\n",
       "      <td>-0.114077</td>\n",
       "      <td>-0.100512</td>\n",
       "    </tr>\n",
       "    <tr>\n",
       "      <th>42</th>\n",
       "      <td>0.052287</td>\n",
       "      <td>-0.094572</td>\n",
       "    </tr>\n",
       "    <tr>\n",
       "      <th>43</th>\n",
       "      <td>-0.068902</td>\n",
       "      <td>-0.021264</td>\n",
       "    </tr>\n",
       "    <tr>\n",
       "      <th>44</th>\n",
       "      <td>-0.101120</td>\n",
       "      <td>0.002039</td>\n",
       "    </tr>\n",
       "  </tbody>\n",
       "</table>\n",
       "</div>"
      ],
      "text/plain": [
       "         PC1       PC2\n",
       "0  -0.216211 -0.046171\n",
       "1  -0.016777  0.036251\n",
       "2  -0.078678  0.038075\n",
       "3   0.072093  0.032669\n",
       "4   0.018297  0.280627\n",
       "5  -0.175509 -0.112788\n",
       "6  -0.156633 -0.068616\n",
       "7   0.090655 -0.008946\n",
       "8   0.105073  0.013447\n",
       "9   0.043433  0.022018\n",
       "10  0.161110 -0.119465\n",
       "11  0.028745  0.035377\n",
       "12  0.246155 -0.195574\n",
       "13 -0.110115  0.083278\n",
       "14 -0.029138  0.012099\n",
       "15  0.019315  0.032727\n",
       "16 -0.029517 -0.013338\n",
       "17 -0.116296  0.005934\n",
       "18 -0.053454 -0.078945\n",
       "19  0.193979 -0.089688\n",
       "20  0.045082  0.042663\n",
       "21 -0.157012  0.029346\n",
       "22 -0.023218  0.053218\n",
       "23 -0.015634 -0.017355\n",
       "24  0.008490  0.047096\n",
       "25  0.001116  0.075474\n",
       "26  0.051514  0.199753\n",
       "27 -0.066858 -0.110142\n",
       "28 -0.230491 -0.073841\n",
       "29  0.045016 -0.013440\n",
       "30  0.020338  0.010594\n",
       "31 -0.005586  0.019779\n",
       "32  0.238877 -0.021205\n",
       "33  0.048892 -0.032067\n",
       "34 -0.014070  0.036810\n",
       "35  0.031781 -0.048635\n",
       "36  0.049274  0.078095\n",
       "37 -0.012565  0.029182\n",
       "38  0.198415  0.045333\n",
       "39 -0.057643  0.001272\n",
       "40  0.079568  0.003406\n",
       "41 -0.114077 -0.100512\n",
       "42  0.052287 -0.094572\n",
       "43 -0.068902 -0.021264\n",
       "44 -0.101120  0.002039"
      ]
     },
     "execution_count": 81,
     "metadata": {},
     "output_type": "execute_result"
    }
   ],
   "source": [
    "#Dans leur article intitulé \"Machine learning in resting-state fMRI analysis\", Khosla et al. (2019)  mettent en évidence \n",
    "#le fait que les analyses non-supervisées doivent elles jouer un rôle dans le monde de l'IRMf. Un des algorithmes dont ils ventent \n",
    "# les mérites est l'analyse en composantes principales.\n",
    "\n",
    "##Load libraries\n",
    "from sklearn.preprocessing import scale # Data scaling\n",
    "from sklearn import decomposition #PCA\n",
    " \n",
    "#analyse    \n",
    "pca = decomposition.PCA(n_components=2) #two clusters (win and lose)\n",
    "pca.fit(X) \n",
    "\n",
    "\n",
    "#scores pour l'analyse\n",
    "scores = pca.transform(X)\n",
    "scores_df = pd.DataFrame(scores, columns=['PC1', 'PC2'])\n",
    "scores_df"
   ]
  },
  {
   "cell_type": "code",
   "execution_count": 82,
   "id": "94d4d43d",
   "metadata": {},
   "outputs": [
    {
     "name": "stdout",
     "output_type": "stream",
     "text": [
      "Nous avons bel et bien des gagnants\n",
      "Nous avons bel et bien des perdants\n"
     ]
    },
    {
     "data": {
      "text/html": [
       "<div>\n",
       "<style scoped>\n",
       "    .dataframe tbody tr th:only-of-type {\n",
       "        vertical-align: middle;\n",
       "    }\n",
       "\n",
       "    .dataframe tbody tr th {\n",
       "        vertical-align: top;\n",
       "    }\n",
       "\n",
       "    .dataframe thead th {\n",
       "        text-align: right;\n",
       "    }\n",
       "</style>\n",
       "<table border=\"1\" class=\"dataframe\">\n",
       "  <thead>\n",
       "    <tr style=\"text-align: right;\">\n",
       "      <th></th>\n",
       "      <th>PC1</th>\n",
       "      <th>PC2</th>\n",
       "    </tr>\n",
       "  </thead>\n",
       "  <tbody>\n",
       "    <tr>\n",
       "      <th>0</th>\n",
       "      <td>0.007674</td>\n",
       "      <td>-0.021907</td>\n",
       "    </tr>\n",
       "    <tr>\n",
       "      <th>1</th>\n",
       "      <td>0.024864</td>\n",
       "      <td>-0.019681</td>\n",
       "    </tr>\n",
       "    <tr>\n",
       "      <th>2</th>\n",
       "      <td>0.022280</td>\n",
       "      <td>-0.021347</td>\n",
       "    </tr>\n",
       "    <tr>\n",
       "      <th>3</th>\n",
       "      <td>0.012026</td>\n",
       "      <td>-0.024277</td>\n",
       "    </tr>\n",
       "    <tr>\n",
       "      <th>4</th>\n",
       "      <td>0.020219</td>\n",
       "      <td>0.005831</td>\n",
       "    </tr>\n",
       "    <tr>\n",
       "      <th>...</th>\n",
       "      <td>...</td>\n",
       "      <td>...</td>\n",
       "    </tr>\n",
       "    <tr>\n",
       "      <th>7957</th>\n",
       "      <td>0.009723</td>\n",
       "      <td>0.019700</td>\n",
       "    </tr>\n",
       "    <tr>\n",
       "      <th>7958</th>\n",
       "      <td>0.011468</td>\n",
       "      <td>0.020482</td>\n",
       "    </tr>\n",
       "    <tr>\n",
       "      <th>7959</th>\n",
       "      <td>0.015710</td>\n",
       "      <td>0.017243</td>\n",
       "    </tr>\n",
       "    <tr>\n",
       "      <th>7960</th>\n",
       "      <td>0.013801</td>\n",
       "      <td>0.013306</td>\n",
       "    </tr>\n",
       "    <tr>\n",
       "      <th>7961</th>\n",
       "      <td>0.010373</td>\n",
       "      <td>0.009167</td>\n",
       "    </tr>\n",
       "  </tbody>\n",
       "</table>\n",
       "<p>7959 rows × 2 columns</p>\n",
       "</div>"
      ],
      "text/plain": [
       "           PC1       PC2\n",
       "0     0.007674 -0.021907\n",
       "1     0.024864 -0.019681\n",
       "2     0.022280 -0.021347\n",
       "3     0.012026 -0.024277\n",
       "4     0.020219  0.005831\n",
       "...        ...       ...\n",
       "7957  0.009723  0.019700\n",
       "7958  0.011468  0.020482\n",
       "7959  0.015710  0.017243\n",
       "7960  0.013801  0.013306\n",
       "7961  0.010373  0.009167\n",
       "\n",
       "[7959 rows x 2 columns]"
      ]
     },
     "execution_count": 82,
     "metadata": {},
     "output_type": "execute_result"
    }
   ],
   "source": [
    "#nous allons créer un ALGORITHME D'AUTOMATISATION (AFIN DE \n",
    "#RÉPONDRE AU CRITÈRE \"AU MONS UN ALGORITHME D'AUTOMATISATION EST UTILISÉ\"). ICI, ON VA UTILISER L'ALGORITHME DE RECHERCHE\n",
    "#LINÉAIRE QUI VA NOUS PERMETTRE DE s'assurer que nous avons biens À LA FOIS DES des gagnants et des perdants DANS NOTRE TABLEAU\n",
    "def linear_search_win(Y):\n",
    "    for i in Y:\n",
    "        if i == '1':\n",
    "            return print(\"Nous avons bel et bien des gagnants\")   \n",
    "             \n",
    "            \n",
    "def linear_search_lose(Y):\n",
    "    for i in Y:\n",
    "        if i == '0':\n",
    "            return print(\"Nous avons bel et bien des perdants\")  \n",
    "\n",
    "linear_search_win(Y)\n",
    "linear_search_lose(Y)\n",
    "\n",
    "\n",
    "Y_label = []\n",
    "for i in Y:\n",
    "    if i == '0':\n",
    "        Y_label.append('lose')\n",
    "    elif i == '1':\n",
    "        Y_label.append('win')\n",
    "\n",
    "\n",
    "Outcome = pd.DataFrame(Y_label, columns=['Outcome'])\n",
    "df_scores = pd.concat([scores_df, Outcome], axis=1)\n",
    "\n",
    "\n",
    "loadings = pca.components_.T\n",
    "df_loadings = pd.DataFrame(loadings, columns=['PC1', 'PC2'], index= X.columns )\n",
    "df_loadings"
   ]
  },
  {
   "cell_type": "code",
   "execution_count": 83,
   "id": "5961fccd",
   "metadata": {},
   "outputs": [
    {
     "data": {
      "text/plain": [
       "array([0.11107454, 0.06038589])"
      ]
     },
     "execution_count": 83,
     "metadata": {},
     "output_type": "execute_result"
    }
   ],
   "source": [
    "explained_variance = pca.explained_variance_ratio_\n",
    "explained_variance"
   ]
  },
  {
   "cell_type": "markdown",
   "id": "f8a239b4",
   "metadata": {},
   "source": [
    "# Graphique pour apprentissage NONsupervisé (2%)"
   ]
  },
  {
   "cell_type": "code",
   "execution_count": 84,
   "id": "4eb7e88b",
   "metadata": {},
   "outputs": [
    {
     "data": {
      "text/html": [
       "<div>\n",
       "<style scoped>\n",
       "    .dataframe tbody tr th:only-of-type {\n",
       "        vertical-align: middle;\n",
       "    }\n",
       "\n",
       "    .dataframe tbody tr th {\n",
       "        vertical-align: top;\n",
       "    }\n",
       "\n",
       "    .dataframe thead th {\n",
       "        text-align: right;\n",
       "    }\n",
       "</style>\n",
       "<table border=\"1\" class=\"dataframe\">\n",
       "  <thead>\n",
       "    <tr style=\"text-align: right;\">\n",
       "      <th></th>\n",
       "      <th>PC</th>\n",
       "      <th>Explained Variance</th>\n",
       "      <th>Cumulative Variance</th>\n",
       "    </tr>\n",
       "  </thead>\n",
       "  <tbody>\n",
       "    <tr>\n",
       "      <th>0</th>\n",
       "      <td></td>\n",
       "      <td>0.000000</td>\n",
       "      <td>0.000</td>\n",
       "    </tr>\n",
       "    <tr>\n",
       "      <th>1</th>\n",
       "      <td>PC1</td>\n",
       "      <td>0.111075</td>\n",
       "      <td>0.111</td>\n",
       "    </tr>\n",
       "    <tr>\n",
       "      <th>2</th>\n",
       "      <td>PC2</td>\n",
       "      <td>0.060386</td>\n",
       "      <td>0.171</td>\n",
       "    </tr>\n",
       "    <tr>\n",
       "      <th>3</th>\n",
       "      <td>PC3</td>\n",
       "      <td>NaN</td>\n",
       "      <td>NaN</td>\n",
       "    </tr>\n",
       "  </tbody>\n",
       "</table>\n",
       "</div>"
      ],
      "text/plain": [
       "    PC  Explained Variance  Cumulative Variance\n",
       "0                 0.000000                0.000\n",
       "1  PC1            0.111075                0.111\n",
       "2  PC2            0.060386                0.171\n",
       "3  PC3                 NaN                  NaN"
      ]
     },
     "execution_count": 84,
     "metadata": {},
     "output_type": "execute_result"
    }
   ],
   "source": [
    "#preprocessing avant de faire les graphiques\n",
    "explained_variance = np.insert(explained_variance, 0, 0)\n",
    "cumulative_variance = np.cumsum(np.round(explained_variance, decimals=3))\n",
    "\n",
    "pc_df = pd.DataFrame(['','PC1', 'PC2', 'PC3'], columns=['PC'])\n",
    "explained_variance_df = pd.DataFrame(explained_variance, columns=['Explained Variance'])\n",
    "cumulative_variance_df = pd.DataFrame(cumulative_variance, columns=['Cumulative Variance'])\n",
    "df_explained_variance = pd.concat([pc_df, explained_variance_df, cumulative_variance_df], axis=1)\n",
    "df_explained_variance"
   ]
  },
  {
   "cell_type": "code",
   "execution_count": 85,
   "id": "e8ced33c",
   "metadata": {},
   "outputs": [
    {
     "data": {
      "application/vnd.plotly.v1+json": {
       "config": {
        "plotlyServerURL": "https://plot.ly"
       },
       "data": [
        {
         "alignmentgroup": "True",
         "hovertemplate": "PC=%{x}<br>Explained Variance=%{text}<extra></extra>",
         "legendgroup": "",
         "marker": {
          "color": "#636efa",
          "pattern": {
           "shape": ""
          }
         },
         "name": "",
         "offsetgroup": "",
         "orientation": "v",
         "showlegend": false,
         "text": [
          0,
          0.11107454011304223,
          0.06038588769024733,
          null
         ],
         "textposition": "outside",
         "texttemplate": "%{text:.3f}",
         "type": "bar",
         "x": [
          "",
          "PC1",
          "PC2",
          "PC3"
         ],
         "xaxis": "x",
         "y": [
          0,
          0.11107454011304223,
          0.06038588769024733,
          null
         ],
         "yaxis": "y"
        }
       ],
       "layout": {
        "barmode": "relative",
        "legend": {
         "tracegroupgap": 0
        },
        "margin": {
         "t": 60
        },
        "template": {
         "data": {
          "bar": [
           {
            "error_x": {
             "color": "#2a3f5f"
            },
            "error_y": {
             "color": "#2a3f5f"
            },
            "marker": {
             "line": {
              "color": "#E5ECF6",
              "width": 0.5
             },
             "pattern": {
              "fillmode": "overlay",
              "size": 10,
              "solidity": 0.2
             }
            },
            "type": "bar"
           }
          ],
          "barpolar": [
           {
            "marker": {
             "line": {
              "color": "#E5ECF6",
              "width": 0.5
             },
             "pattern": {
              "fillmode": "overlay",
              "size": 10,
              "solidity": 0.2
             }
            },
            "type": "barpolar"
           }
          ],
          "carpet": [
           {
            "aaxis": {
             "endlinecolor": "#2a3f5f",
             "gridcolor": "white",
             "linecolor": "white",
             "minorgridcolor": "white",
             "startlinecolor": "#2a3f5f"
            },
            "baxis": {
             "endlinecolor": "#2a3f5f",
             "gridcolor": "white",
             "linecolor": "white",
             "minorgridcolor": "white",
             "startlinecolor": "#2a3f5f"
            },
            "type": "carpet"
           }
          ],
          "choropleth": [
           {
            "colorbar": {
             "outlinewidth": 0,
             "ticks": ""
            },
            "type": "choropleth"
           }
          ],
          "contour": [
           {
            "colorbar": {
             "outlinewidth": 0,
             "ticks": ""
            },
            "colorscale": [
             [
              0,
              "#0d0887"
             ],
             [
              0.1111111111111111,
              "#46039f"
             ],
             [
              0.2222222222222222,
              "#7201a8"
             ],
             [
              0.3333333333333333,
              "#9c179e"
             ],
             [
              0.4444444444444444,
              "#bd3786"
             ],
             [
              0.5555555555555556,
              "#d8576b"
             ],
             [
              0.6666666666666666,
              "#ed7953"
             ],
             [
              0.7777777777777778,
              "#fb9f3a"
             ],
             [
              0.8888888888888888,
              "#fdca26"
             ],
             [
              1,
              "#f0f921"
             ]
            ],
            "type": "contour"
           }
          ],
          "contourcarpet": [
           {
            "colorbar": {
             "outlinewidth": 0,
             "ticks": ""
            },
            "type": "contourcarpet"
           }
          ],
          "heatmap": [
           {
            "colorbar": {
             "outlinewidth": 0,
             "ticks": ""
            },
            "colorscale": [
             [
              0,
              "#0d0887"
             ],
             [
              0.1111111111111111,
              "#46039f"
             ],
             [
              0.2222222222222222,
              "#7201a8"
             ],
             [
              0.3333333333333333,
              "#9c179e"
             ],
             [
              0.4444444444444444,
              "#bd3786"
             ],
             [
              0.5555555555555556,
              "#d8576b"
             ],
             [
              0.6666666666666666,
              "#ed7953"
             ],
             [
              0.7777777777777778,
              "#fb9f3a"
             ],
             [
              0.8888888888888888,
              "#fdca26"
             ],
             [
              1,
              "#f0f921"
             ]
            ],
            "type": "heatmap"
           }
          ],
          "heatmapgl": [
           {
            "colorbar": {
             "outlinewidth": 0,
             "ticks": ""
            },
            "colorscale": [
             [
              0,
              "#0d0887"
             ],
             [
              0.1111111111111111,
              "#46039f"
             ],
             [
              0.2222222222222222,
              "#7201a8"
             ],
             [
              0.3333333333333333,
              "#9c179e"
             ],
             [
              0.4444444444444444,
              "#bd3786"
             ],
             [
              0.5555555555555556,
              "#d8576b"
             ],
             [
              0.6666666666666666,
              "#ed7953"
             ],
             [
              0.7777777777777778,
              "#fb9f3a"
             ],
             [
              0.8888888888888888,
              "#fdca26"
             ],
             [
              1,
              "#f0f921"
             ]
            ],
            "type": "heatmapgl"
           }
          ],
          "histogram": [
           {
            "marker": {
             "pattern": {
              "fillmode": "overlay",
              "size": 10,
              "solidity": 0.2
             }
            },
            "type": "histogram"
           }
          ],
          "histogram2d": [
           {
            "colorbar": {
             "outlinewidth": 0,
             "ticks": ""
            },
            "colorscale": [
             [
              0,
              "#0d0887"
             ],
             [
              0.1111111111111111,
              "#46039f"
             ],
             [
              0.2222222222222222,
              "#7201a8"
             ],
             [
              0.3333333333333333,
              "#9c179e"
             ],
             [
              0.4444444444444444,
              "#bd3786"
             ],
             [
              0.5555555555555556,
              "#d8576b"
             ],
             [
              0.6666666666666666,
              "#ed7953"
             ],
             [
              0.7777777777777778,
              "#fb9f3a"
             ],
             [
              0.8888888888888888,
              "#fdca26"
             ],
             [
              1,
              "#f0f921"
             ]
            ],
            "type": "histogram2d"
           }
          ],
          "histogram2dcontour": [
           {
            "colorbar": {
             "outlinewidth": 0,
             "ticks": ""
            },
            "colorscale": [
             [
              0,
              "#0d0887"
             ],
             [
              0.1111111111111111,
              "#46039f"
             ],
             [
              0.2222222222222222,
              "#7201a8"
             ],
             [
              0.3333333333333333,
              "#9c179e"
             ],
             [
              0.4444444444444444,
              "#bd3786"
             ],
             [
              0.5555555555555556,
              "#d8576b"
             ],
             [
              0.6666666666666666,
              "#ed7953"
             ],
             [
              0.7777777777777778,
              "#fb9f3a"
             ],
             [
              0.8888888888888888,
              "#fdca26"
             ],
             [
              1,
              "#f0f921"
             ]
            ],
            "type": "histogram2dcontour"
           }
          ],
          "mesh3d": [
           {
            "colorbar": {
             "outlinewidth": 0,
             "ticks": ""
            },
            "type": "mesh3d"
           }
          ],
          "parcoords": [
           {
            "line": {
             "colorbar": {
              "outlinewidth": 0,
              "ticks": ""
             }
            },
            "type": "parcoords"
           }
          ],
          "pie": [
           {
            "automargin": true,
            "type": "pie"
           }
          ],
          "scatter": [
           {
            "fillpattern": {
             "fillmode": "overlay",
             "size": 10,
             "solidity": 0.2
            },
            "type": "scatter"
           }
          ],
          "scatter3d": [
           {
            "line": {
             "colorbar": {
              "outlinewidth": 0,
              "ticks": ""
             }
            },
            "marker": {
             "colorbar": {
              "outlinewidth": 0,
              "ticks": ""
             }
            },
            "type": "scatter3d"
           }
          ],
          "scattercarpet": [
           {
            "marker": {
             "colorbar": {
              "outlinewidth": 0,
              "ticks": ""
             }
            },
            "type": "scattercarpet"
           }
          ],
          "scattergeo": [
           {
            "marker": {
             "colorbar": {
              "outlinewidth": 0,
              "ticks": ""
             }
            },
            "type": "scattergeo"
           }
          ],
          "scattergl": [
           {
            "marker": {
             "colorbar": {
              "outlinewidth": 0,
              "ticks": ""
             }
            },
            "type": "scattergl"
           }
          ],
          "scattermapbox": [
           {
            "marker": {
             "colorbar": {
              "outlinewidth": 0,
              "ticks": ""
             }
            },
            "type": "scattermapbox"
           }
          ],
          "scatterpolar": [
           {
            "marker": {
             "colorbar": {
              "outlinewidth": 0,
              "ticks": ""
             }
            },
            "type": "scatterpolar"
           }
          ],
          "scatterpolargl": [
           {
            "marker": {
             "colorbar": {
              "outlinewidth": 0,
              "ticks": ""
             }
            },
            "type": "scatterpolargl"
           }
          ],
          "scatterternary": [
           {
            "marker": {
             "colorbar": {
              "outlinewidth": 0,
              "ticks": ""
             }
            },
            "type": "scatterternary"
           }
          ],
          "surface": [
           {
            "colorbar": {
             "outlinewidth": 0,
             "ticks": ""
            },
            "colorscale": [
             [
              0,
              "#0d0887"
             ],
             [
              0.1111111111111111,
              "#46039f"
             ],
             [
              0.2222222222222222,
              "#7201a8"
             ],
             [
              0.3333333333333333,
              "#9c179e"
             ],
             [
              0.4444444444444444,
              "#bd3786"
             ],
             [
              0.5555555555555556,
              "#d8576b"
             ],
             [
              0.6666666666666666,
              "#ed7953"
             ],
             [
              0.7777777777777778,
              "#fb9f3a"
             ],
             [
              0.8888888888888888,
              "#fdca26"
             ],
             [
              1,
              "#f0f921"
             ]
            ],
            "type": "surface"
           }
          ],
          "table": [
           {
            "cells": {
             "fill": {
              "color": "#EBF0F8"
             },
             "line": {
              "color": "white"
             }
            },
            "header": {
             "fill": {
              "color": "#C8D4E3"
             },
             "line": {
              "color": "white"
             }
            },
            "type": "table"
           }
          ]
         },
         "layout": {
          "annotationdefaults": {
           "arrowcolor": "#2a3f5f",
           "arrowhead": 0,
           "arrowwidth": 1
          },
          "autotypenumbers": "strict",
          "coloraxis": {
           "colorbar": {
            "outlinewidth": 0,
            "ticks": ""
           }
          },
          "colorscale": {
           "diverging": [
            [
             0,
             "#8e0152"
            ],
            [
             0.1,
             "#c51b7d"
            ],
            [
             0.2,
             "#de77ae"
            ],
            [
             0.3,
             "#f1b6da"
            ],
            [
             0.4,
             "#fde0ef"
            ],
            [
             0.5,
             "#f7f7f7"
            ],
            [
             0.6,
             "#e6f5d0"
            ],
            [
             0.7,
             "#b8e186"
            ],
            [
             0.8,
             "#7fbc41"
            ],
            [
             0.9,
             "#4d9221"
            ],
            [
             1,
             "#276419"
            ]
           ],
           "sequential": [
            [
             0,
             "#0d0887"
            ],
            [
             0.1111111111111111,
             "#46039f"
            ],
            [
             0.2222222222222222,
             "#7201a8"
            ],
            [
             0.3333333333333333,
             "#9c179e"
            ],
            [
             0.4444444444444444,
             "#bd3786"
            ],
            [
             0.5555555555555556,
             "#d8576b"
            ],
            [
             0.6666666666666666,
             "#ed7953"
            ],
            [
             0.7777777777777778,
             "#fb9f3a"
            ],
            [
             0.8888888888888888,
             "#fdca26"
            ],
            [
             1,
             "#f0f921"
            ]
           ],
           "sequentialminus": [
            [
             0,
             "#0d0887"
            ],
            [
             0.1111111111111111,
             "#46039f"
            ],
            [
             0.2222222222222222,
             "#7201a8"
            ],
            [
             0.3333333333333333,
             "#9c179e"
            ],
            [
             0.4444444444444444,
             "#bd3786"
            ],
            [
             0.5555555555555556,
             "#d8576b"
            ],
            [
             0.6666666666666666,
             "#ed7953"
            ],
            [
             0.7777777777777778,
             "#fb9f3a"
            ],
            [
             0.8888888888888888,
             "#fdca26"
            ],
            [
             1,
             "#f0f921"
            ]
           ]
          },
          "colorway": [
           "#636efa",
           "#EF553B",
           "#00cc96",
           "#ab63fa",
           "#FFA15A",
           "#19d3f3",
           "#FF6692",
           "#B6E880",
           "#FF97FF",
           "#FECB52"
          ],
          "font": {
           "color": "#2a3f5f"
          },
          "geo": {
           "bgcolor": "white",
           "lakecolor": "white",
           "landcolor": "#E5ECF6",
           "showlakes": true,
           "showland": true,
           "subunitcolor": "white"
          },
          "hoverlabel": {
           "align": "left"
          },
          "hovermode": "closest",
          "mapbox": {
           "style": "light"
          },
          "paper_bgcolor": "white",
          "plot_bgcolor": "#E5ECF6",
          "polar": {
           "angularaxis": {
            "gridcolor": "white",
            "linecolor": "white",
            "ticks": ""
           },
           "bgcolor": "#E5ECF6",
           "radialaxis": {
            "gridcolor": "white",
            "linecolor": "white",
            "ticks": ""
           }
          },
          "scene": {
           "xaxis": {
            "backgroundcolor": "#E5ECF6",
            "gridcolor": "white",
            "gridwidth": 2,
            "linecolor": "white",
            "showbackground": true,
            "ticks": "",
            "zerolinecolor": "white"
           },
           "yaxis": {
            "backgroundcolor": "#E5ECF6",
            "gridcolor": "white",
            "gridwidth": 2,
            "linecolor": "white",
            "showbackground": true,
            "ticks": "",
            "zerolinecolor": "white"
           },
           "zaxis": {
            "backgroundcolor": "#E5ECF6",
            "gridcolor": "white",
            "gridwidth": 2,
            "linecolor": "white",
            "showbackground": true,
            "ticks": "",
            "zerolinecolor": "white"
           }
          },
          "shapedefaults": {
           "line": {
            "color": "#2a3f5f"
           }
          },
          "ternary": {
           "aaxis": {
            "gridcolor": "white",
            "linecolor": "white",
            "ticks": ""
           },
           "baxis": {
            "gridcolor": "white",
            "linecolor": "white",
            "ticks": ""
           },
           "bgcolor": "#E5ECF6",
           "caxis": {
            "gridcolor": "white",
            "linecolor": "white",
            "ticks": ""
           }
          },
          "title": {
           "x": 0.05
          },
          "xaxis": {
           "automargin": true,
           "gridcolor": "white",
           "linecolor": "white",
           "ticks": "",
           "title": {
            "standoff": 15
           },
           "zerolinecolor": "white",
           "zerolinewidth": 2
          },
          "yaxis": {
           "automargin": true,
           "gridcolor": "white",
           "linecolor": "white",
           "ticks": "",
           "title": {
            "standoff": 15
           },
           "zerolinecolor": "white",
           "zerolinewidth": 2
          }
         }
        },
        "width": 800,
        "xaxis": {
         "anchor": "y",
         "domain": [
          0,
          1
         ],
         "title": {
          "text": "PC"
         }
        },
        "yaxis": {
         "anchor": "x",
         "domain": [
          0,
          1
         ],
         "title": {
          "text": "Explained Variance"
         }
        }
       }
      },
      "text/html": [
       "<div>                            <div id=\"13e8bc0f-cb82-4de2-b200-7ae95d17e68a\" class=\"plotly-graph-div\" style=\"height:525px; width:800px;\"></div>            <script type=\"text/javascript\">                require([\"plotly\"], function(Plotly) {                    window.PLOTLYENV=window.PLOTLYENV || {};                                    if (document.getElementById(\"13e8bc0f-cb82-4de2-b200-7ae95d17e68a\")) {                    Plotly.newPlot(                        \"13e8bc0f-cb82-4de2-b200-7ae95d17e68a\",                        [{\"alignmentgroup\":\"True\",\"hovertemplate\":\"PC=%{x}<br>Explained Variance=%{text}<extra></extra>\",\"legendgroup\":\"\",\"marker\":{\"color\":\"#636efa\",\"pattern\":{\"shape\":\"\"}},\"name\":\"\",\"offsetgroup\":\"\",\"orientation\":\"v\",\"showlegend\":false,\"text\":[0.0,0.11107454011304223,0.06038588769024733,null],\"textposition\":\"outside\",\"x\":[\"\",\"PC1\",\"PC2\",\"PC3\"],\"xaxis\":\"x\",\"y\":[0.0,0.11107454011304223,0.06038588769024733,null],\"yaxis\":\"y\",\"type\":\"bar\",\"texttemplate\":\"%{text:.3f}\"}],                        {\"template\":{\"data\":{\"histogram2dcontour\":[{\"type\":\"histogram2dcontour\",\"colorbar\":{\"outlinewidth\":0,\"ticks\":\"\"},\"colorscale\":[[0.0,\"#0d0887\"],[0.1111111111111111,\"#46039f\"],[0.2222222222222222,\"#7201a8\"],[0.3333333333333333,\"#9c179e\"],[0.4444444444444444,\"#bd3786\"],[0.5555555555555556,\"#d8576b\"],[0.6666666666666666,\"#ed7953\"],[0.7777777777777778,\"#fb9f3a\"],[0.8888888888888888,\"#fdca26\"],[1.0,\"#f0f921\"]]}],\"choropleth\":[{\"type\":\"choropleth\",\"colorbar\":{\"outlinewidth\":0,\"ticks\":\"\"}}],\"histogram2d\":[{\"type\":\"histogram2d\",\"colorbar\":{\"outlinewidth\":0,\"ticks\":\"\"},\"colorscale\":[[0.0,\"#0d0887\"],[0.1111111111111111,\"#46039f\"],[0.2222222222222222,\"#7201a8\"],[0.3333333333333333,\"#9c179e\"],[0.4444444444444444,\"#bd3786\"],[0.5555555555555556,\"#d8576b\"],[0.6666666666666666,\"#ed7953\"],[0.7777777777777778,\"#fb9f3a\"],[0.8888888888888888,\"#fdca26\"],[1.0,\"#f0f921\"]]}],\"heatmap\":[{\"type\":\"heatmap\",\"colorbar\":{\"outlinewidth\":0,\"ticks\":\"\"},\"colorscale\":[[0.0,\"#0d0887\"],[0.1111111111111111,\"#46039f\"],[0.2222222222222222,\"#7201a8\"],[0.3333333333333333,\"#9c179e\"],[0.4444444444444444,\"#bd3786\"],[0.5555555555555556,\"#d8576b\"],[0.6666666666666666,\"#ed7953\"],[0.7777777777777778,\"#fb9f3a\"],[0.8888888888888888,\"#fdca26\"],[1.0,\"#f0f921\"]]}],\"heatmapgl\":[{\"type\":\"heatmapgl\",\"colorbar\":{\"outlinewidth\":0,\"ticks\":\"\"},\"colorscale\":[[0.0,\"#0d0887\"],[0.1111111111111111,\"#46039f\"],[0.2222222222222222,\"#7201a8\"],[0.3333333333333333,\"#9c179e\"],[0.4444444444444444,\"#bd3786\"],[0.5555555555555556,\"#d8576b\"],[0.6666666666666666,\"#ed7953\"],[0.7777777777777778,\"#fb9f3a\"],[0.8888888888888888,\"#fdca26\"],[1.0,\"#f0f921\"]]}],\"contourcarpet\":[{\"type\":\"contourcarpet\",\"colorbar\":{\"outlinewidth\":0,\"ticks\":\"\"}}],\"contour\":[{\"type\":\"contour\",\"colorbar\":{\"outlinewidth\":0,\"ticks\":\"\"},\"colorscale\":[[0.0,\"#0d0887\"],[0.1111111111111111,\"#46039f\"],[0.2222222222222222,\"#7201a8\"],[0.3333333333333333,\"#9c179e\"],[0.4444444444444444,\"#bd3786\"],[0.5555555555555556,\"#d8576b\"],[0.6666666666666666,\"#ed7953\"],[0.7777777777777778,\"#fb9f3a\"],[0.8888888888888888,\"#fdca26\"],[1.0,\"#f0f921\"]]}],\"surface\":[{\"type\":\"surface\",\"colorbar\":{\"outlinewidth\":0,\"ticks\":\"\"},\"colorscale\":[[0.0,\"#0d0887\"],[0.1111111111111111,\"#46039f\"],[0.2222222222222222,\"#7201a8\"],[0.3333333333333333,\"#9c179e\"],[0.4444444444444444,\"#bd3786\"],[0.5555555555555556,\"#d8576b\"],[0.6666666666666666,\"#ed7953\"],[0.7777777777777778,\"#fb9f3a\"],[0.8888888888888888,\"#fdca26\"],[1.0,\"#f0f921\"]]}],\"mesh3d\":[{\"type\":\"mesh3d\",\"colorbar\":{\"outlinewidth\":0,\"ticks\":\"\"}}],\"scatter\":[{\"fillpattern\":{\"fillmode\":\"overlay\",\"size\":10,\"solidity\":0.2},\"type\":\"scatter\"}],\"parcoords\":[{\"type\":\"parcoords\",\"line\":{\"colorbar\":{\"outlinewidth\":0,\"ticks\":\"\"}}}],\"scatterpolargl\":[{\"type\":\"scatterpolargl\",\"marker\":{\"colorbar\":{\"outlinewidth\":0,\"ticks\":\"\"}}}],\"bar\":[{\"error_x\":{\"color\":\"#2a3f5f\"},\"error_y\":{\"color\":\"#2a3f5f\"},\"marker\":{\"line\":{\"color\":\"#E5ECF6\",\"width\":0.5},\"pattern\":{\"fillmode\":\"overlay\",\"size\":10,\"solidity\":0.2}},\"type\":\"bar\"}],\"scattergeo\":[{\"type\":\"scattergeo\",\"marker\":{\"colorbar\":{\"outlinewidth\":0,\"ticks\":\"\"}}}],\"scatterpolar\":[{\"type\":\"scatterpolar\",\"marker\":{\"colorbar\":{\"outlinewidth\":0,\"ticks\":\"\"}}}],\"histogram\":[{\"marker\":{\"pattern\":{\"fillmode\":\"overlay\",\"size\":10,\"solidity\":0.2}},\"type\":\"histogram\"}],\"scattergl\":[{\"type\":\"scattergl\",\"marker\":{\"colorbar\":{\"outlinewidth\":0,\"ticks\":\"\"}}}],\"scatter3d\":[{\"type\":\"scatter3d\",\"line\":{\"colorbar\":{\"outlinewidth\":0,\"ticks\":\"\"}},\"marker\":{\"colorbar\":{\"outlinewidth\":0,\"ticks\":\"\"}}}],\"scattermapbox\":[{\"type\":\"scattermapbox\",\"marker\":{\"colorbar\":{\"outlinewidth\":0,\"ticks\":\"\"}}}],\"scatterternary\":[{\"type\":\"scatterternary\",\"marker\":{\"colorbar\":{\"outlinewidth\":0,\"ticks\":\"\"}}}],\"scattercarpet\":[{\"type\":\"scattercarpet\",\"marker\":{\"colorbar\":{\"outlinewidth\":0,\"ticks\":\"\"}}}],\"carpet\":[{\"aaxis\":{\"endlinecolor\":\"#2a3f5f\",\"gridcolor\":\"white\",\"linecolor\":\"white\",\"minorgridcolor\":\"white\",\"startlinecolor\":\"#2a3f5f\"},\"baxis\":{\"endlinecolor\":\"#2a3f5f\",\"gridcolor\":\"white\",\"linecolor\":\"white\",\"minorgridcolor\":\"white\",\"startlinecolor\":\"#2a3f5f\"},\"type\":\"carpet\"}],\"table\":[{\"cells\":{\"fill\":{\"color\":\"#EBF0F8\"},\"line\":{\"color\":\"white\"}},\"header\":{\"fill\":{\"color\":\"#C8D4E3\"},\"line\":{\"color\":\"white\"}},\"type\":\"table\"}],\"barpolar\":[{\"marker\":{\"line\":{\"color\":\"#E5ECF6\",\"width\":0.5},\"pattern\":{\"fillmode\":\"overlay\",\"size\":10,\"solidity\":0.2}},\"type\":\"barpolar\"}],\"pie\":[{\"automargin\":true,\"type\":\"pie\"}]},\"layout\":{\"autotypenumbers\":\"strict\",\"colorway\":[\"#636efa\",\"#EF553B\",\"#00cc96\",\"#ab63fa\",\"#FFA15A\",\"#19d3f3\",\"#FF6692\",\"#B6E880\",\"#FF97FF\",\"#FECB52\"],\"font\":{\"color\":\"#2a3f5f\"},\"hovermode\":\"closest\",\"hoverlabel\":{\"align\":\"left\"},\"paper_bgcolor\":\"white\",\"plot_bgcolor\":\"#E5ECF6\",\"polar\":{\"bgcolor\":\"#E5ECF6\",\"angularaxis\":{\"gridcolor\":\"white\",\"linecolor\":\"white\",\"ticks\":\"\"},\"radialaxis\":{\"gridcolor\":\"white\",\"linecolor\":\"white\",\"ticks\":\"\"}},\"ternary\":{\"bgcolor\":\"#E5ECF6\",\"aaxis\":{\"gridcolor\":\"white\",\"linecolor\":\"white\",\"ticks\":\"\"},\"baxis\":{\"gridcolor\":\"white\",\"linecolor\":\"white\",\"ticks\":\"\"},\"caxis\":{\"gridcolor\":\"white\",\"linecolor\":\"white\",\"ticks\":\"\"}},\"coloraxis\":{\"colorbar\":{\"outlinewidth\":0,\"ticks\":\"\"}},\"colorscale\":{\"sequential\":[[0.0,\"#0d0887\"],[0.1111111111111111,\"#46039f\"],[0.2222222222222222,\"#7201a8\"],[0.3333333333333333,\"#9c179e\"],[0.4444444444444444,\"#bd3786\"],[0.5555555555555556,\"#d8576b\"],[0.6666666666666666,\"#ed7953\"],[0.7777777777777778,\"#fb9f3a\"],[0.8888888888888888,\"#fdca26\"],[1.0,\"#f0f921\"]],\"sequentialminus\":[[0.0,\"#0d0887\"],[0.1111111111111111,\"#46039f\"],[0.2222222222222222,\"#7201a8\"],[0.3333333333333333,\"#9c179e\"],[0.4444444444444444,\"#bd3786\"],[0.5555555555555556,\"#d8576b\"],[0.6666666666666666,\"#ed7953\"],[0.7777777777777778,\"#fb9f3a\"],[0.8888888888888888,\"#fdca26\"],[1.0,\"#f0f921\"]],\"diverging\":[[0,\"#8e0152\"],[0.1,\"#c51b7d\"],[0.2,\"#de77ae\"],[0.3,\"#f1b6da\"],[0.4,\"#fde0ef\"],[0.5,\"#f7f7f7\"],[0.6,\"#e6f5d0\"],[0.7,\"#b8e186\"],[0.8,\"#7fbc41\"],[0.9,\"#4d9221\"],[1,\"#276419\"]]},\"xaxis\":{\"gridcolor\":\"white\",\"linecolor\":\"white\",\"ticks\":\"\",\"title\":{\"standoff\":15},\"zerolinecolor\":\"white\",\"automargin\":true,\"zerolinewidth\":2},\"yaxis\":{\"gridcolor\":\"white\",\"linecolor\":\"white\",\"ticks\":\"\",\"title\":{\"standoff\":15},\"zerolinecolor\":\"white\",\"automargin\":true,\"zerolinewidth\":2},\"scene\":{\"xaxis\":{\"backgroundcolor\":\"#E5ECF6\",\"gridcolor\":\"white\",\"linecolor\":\"white\",\"showbackground\":true,\"ticks\":\"\",\"zerolinecolor\":\"white\",\"gridwidth\":2},\"yaxis\":{\"backgroundcolor\":\"#E5ECF6\",\"gridcolor\":\"white\",\"linecolor\":\"white\",\"showbackground\":true,\"ticks\":\"\",\"zerolinecolor\":\"white\",\"gridwidth\":2},\"zaxis\":{\"backgroundcolor\":\"#E5ECF6\",\"gridcolor\":\"white\",\"linecolor\":\"white\",\"showbackground\":true,\"ticks\":\"\",\"zerolinecolor\":\"white\",\"gridwidth\":2}},\"shapedefaults\":{\"line\":{\"color\":\"#2a3f5f\"}},\"annotationdefaults\":{\"arrowcolor\":\"#2a3f5f\",\"arrowhead\":0,\"arrowwidth\":1},\"geo\":{\"bgcolor\":\"white\",\"landcolor\":\"#E5ECF6\",\"subunitcolor\":\"white\",\"showland\":true,\"showlakes\":true,\"lakecolor\":\"white\"},\"title\":{\"x\":0.05},\"mapbox\":{\"style\":\"light\"}}},\"xaxis\":{\"anchor\":\"y\",\"domain\":[0.0,1.0],\"title\":{\"text\":\"PC\"}},\"yaxis\":{\"anchor\":\"x\",\"domain\":[0.0,1.0],\"title\":{\"text\":\"Explained Variance\"}},\"legend\":{\"tracegroupgap\":0},\"margin\":{\"t\":60},\"barmode\":\"relative\",\"width\":800},                        {\"responsive\": true}                    ).then(function(){\n",
       "                            \n",
       "var gd = document.getElementById('13e8bc0f-cb82-4de2-b200-7ae95d17e68a');\n",
       "var x = new MutationObserver(function (mutations, observer) {{\n",
       "        var display = window.getComputedStyle(gd).display;\n",
       "        if (!display || display === 'none') {{\n",
       "            console.log([gd, 'removed!']);\n",
       "            Plotly.purge(gd);\n",
       "            observer.disconnect();\n",
       "        }}\n",
       "}});\n",
       "\n",
       "// Listen for the removal of the full notebook cells\n",
       "var notebookContainer = gd.closest('#notebook-container');\n",
       "if (notebookContainer) {{\n",
       "    x.observe(notebookContainer, {childList: true});\n",
       "}}\n",
       "\n",
       "// Listen for the clearing of the current output cell\n",
       "var outputEl = gd.closest('.output');\n",
       "if (outputEl) {{\n",
       "    x.observe(outputEl, {childList: true});\n",
       "}}\n",
       "\n",
       "                        })                };                });            </script>        </div>"
      ]
     },
     "metadata": {},
     "output_type": "display_data"
    }
   ],
   "source": [
    "#GRAPHIQUE POUR LA VARIANCE EXPLIQUÉE\n",
    "\n",
    " \n",
    "\n",
    "fig = px.bar(df_explained_variance, \n",
    "             x='PC', y='Explained Variance',\n",
    "             text='Explained Variance',\n",
    "             width=800)\n",
    "\n",
    "fig.update_traces(texttemplate='%{text:.3f}', textposition='outside')\n",
    "fig.show()"
   ]
  },
  {
   "cell_type": "code",
   "execution_count": 86,
   "id": "b078a9f7",
   "metadata": {},
   "outputs": [
    {
     "data": {
      "application/vnd.plotly.v1+json": {
       "config": {
        "plotlyServerURL": "https://plot.ly"
       },
       "data": [
        {
         "marker": {
          "color": "LightSeaGreen",
          "size": 15
         },
         "type": "scatter",
         "x": [
          "",
          "PC1",
          "PC2",
          "PC3"
         ],
         "y": [
          0,
          0.111,
          0.17099999999999999,
          null
         ]
        },
        {
         "marker": {
          "color": "RoyalBlue"
         },
         "type": "bar",
         "x": [
          "",
          "PC1",
          "PC2",
          "PC3"
         ],
         "y": [
          0,
          0.11107454011304223,
          0.06038588769024733,
          null
         ]
        }
       ],
       "layout": {
        "template": {
         "data": {
          "bar": [
           {
            "error_x": {
             "color": "#2a3f5f"
            },
            "error_y": {
             "color": "#2a3f5f"
            },
            "marker": {
             "line": {
              "color": "#E5ECF6",
              "width": 0.5
             },
             "pattern": {
              "fillmode": "overlay",
              "size": 10,
              "solidity": 0.2
             }
            },
            "type": "bar"
           }
          ],
          "barpolar": [
           {
            "marker": {
             "line": {
              "color": "#E5ECF6",
              "width": 0.5
             },
             "pattern": {
              "fillmode": "overlay",
              "size": 10,
              "solidity": 0.2
             }
            },
            "type": "barpolar"
           }
          ],
          "carpet": [
           {
            "aaxis": {
             "endlinecolor": "#2a3f5f",
             "gridcolor": "white",
             "linecolor": "white",
             "minorgridcolor": "white",
             "startlinecolor": "#2a3f5f"
            },
            "baxis": {
             "endlinecolor": "#2a3f5f",
             "gridcolor": "white",
             "linecolor": "white",
             "minorgridcolor": "white",
             "startlinecolor": "#2a3f5f"
            },
            "type": "carpet"
           }
          ],
          "choropleth": [
           {
            "colorbar": {
             "outlinewidth": 0,
             "ticks": ""
            },
            "type": "choropleth"
           }
          ],
          "contour": [
           {
            "colorbar": {
             "outlinewidth": 0,
             "ticks": ""
            },
            "colorscale": [
             [
              0,
              "#0d0887"
             ],
             [
              0.1111111111111111,
              "#46039f"
             ],
             [
              0.2222222222222222,
              "#7201a8"
             ],
             [
              0.3333333333333333,
              "#9c179e"
             ],
             [
              0.4444444444444444,
              "#bd3786"
             ],
             [
              0.5555555555555556,
              "#d8576b"
             ],
             [
              0.6666666666666666,
              "#ed7953"
             ],
             [
              0.7777777777777778,
              "#fb9f3a"
             ],
             [
              0.8888888888888888,
              "#fdca26"
             ],
             [
              1,
              "#f0f921"
             ]
            ],
            "type": "contour"
           }
          ],
          "contourcarpet": [
           {
            "colorbar": {
             "outlinewidth": 0,
             "ticks": ""
            },
            "type": "contourcarpet"
           }
          ],
          "heatmap": [
           {
            "colorbar": {
             "outlinewidth": 0,
             "ticks": ""
            },
            "colorscale": [
             [
              0,
              "#0d0887"
             ],
             [
              0.1111111111111111,
              "#46039f"
             ],
             [
              0.2222222222222222,
              "#7201a8"
             ],
             [
              0.3333333333333333,
              "#9c179e"
             ],
             [
              0.4444444444444444,
              "#bd3786"
             ],
             [
              0.5555555555555556,
              "#d8576b"
             ],
             [
              0.6666666666666666,
              "#ed7953"
             ],
             [
              0.7777777777777778,
              "#fb9f3a"
             ],
             [
              0.8888888888888888,
              "#fdca26"
             ],
             [
              1,
              "#f0f921"
             ]
            ],
            "type": "heatmap"
           }
          ],
          "heatmapgl": [
           {
            "colorbar": {
             "outlinewidth": 0,
             "ticks": ""
            },
            "colorscale": [
             [
              0,
              "#0d0887"
             ],
             [
              0.1111111111111111,
              "#46039f"
             ],
             [
              0.2222222222222222,
              "#7201a8"
             ],
             [
              0.3333333333333333,
              "#9c179e"
             ],
             [
              0.4444444444444444,
              "#bd3786"
             ],
             [
              0.5555555555555556,
              "#d8576b"
             ],
             [
              0.6666666666666666,
              "#ed7953"
             ],
             [
              0.7777777777777778,
              "#fb9f3a"
             ],
             [
              0.8888888888888888,
              "#fdca26"
             ],
             [
              1,
              "#f0f921"
             ]
            ],
            "type": "heatmapgl"
           }
          ],
          "histogram": [
           {
            "marker": {
             "pattern": {
              "fillmode": "overlay",
              "size": 10,
              "solidity": 0.2
             }
            },
            "type": "histogram"
           }
          ],
          "histogram2d": [
           {
            "colorbar": {
             "outlinewidth": 0,
             "ticks": ""
            },
            "colorscale": [
             [
              0,
              "#0d0887"
             ],
             [
              0.1111111111111111,
              "#46039f"
             ],
             [
              0.2222222222222222,
              "#7201a8"
             ],
             [
              0.3333333333333333,
              "#9c179e"
             ],
             [
              0.4444444444444444,
              "#bd3786"
             ],
             [
              0.5555555555555556,
              "#d8576b"
             ],
             [
              0.6666666666666666,
              "#ed7953"
             ],
             [
              0.7777777777777778,
              "#fb9f3a"
             ],
             [
              0.8888888888888888,
              "#fdca26"
             ],
             [
              1,
              "#f0f921"
             ]
            ],
            "type": "histogram2d"
           }
          ],
          "histogram2dcontour": [
           {
            "colorbar": {
             "outlinewidth": 0,
             "ticks": ""
            },
            "colorscale": [
             [
              0,
              "#0d0887"
             ],
             [
              0.1111111111111111,
              "#46039f"
             ],
             [
              0.2222222222222222,
              "#7201a8"
             ],
             [
              0.3333333333333333,
              "#9c179e"
             ],
             [
              0.4444444444444444,
              "#bd3786"
             ],
             [
              0.5555555555555556,
              "#d8576b"
             ],
             [
              0.6666666666666666,
              "#ed7953"
             ],
             [
              0.7777777777777778,
              "#fb9f3a"
             ],
             [
              0.8888888888888888,
              "#fdca26"
             ],
             [
              1,
              "#f0f921"
             ]
            ],
            "type": "histogram2dcontour"
           }
          ],
          "mesh3d": [
           {
            "colorbar": {
             "outlinewidth": 0,
             "ticks": ""
            },
            "type": "mesh3d"
           }
          ],
          "parcoords": [
           {
            "line": {
             "colorbar": {
              "outlinewidth": 0,
              "ticks": ""
             }
            },
            "type": "parcoords"
           }
          ],
          "pie": [
           {
            "automargin": true,
            "type": "pie"
           }
          ],
          "scatter": [
           {
            "fillpattern": {
             "fillmode": "overlay",
             "size": 10,
             "solidity": 0.2
            },
            "type": "scatter"
           }
          ],
          "scatter3d": [
           {
            "line": {
             "colorbar": {
              "outlinewidth": 0,
              "ticks": ""
             }
            },
            "marker": {
             "colorbar": {
              "outlinewidth": 0,
              "ticks": ""
             }
            },
            "type": "scatter3d"
           }
          ],
          "scattercarpet": [
           {
            "marker": {
             "colorbar": {
              "outlinewidth": 0,
              "ticks": ""
             }
            },
            "type": "scattercarpet"
           }
          ],
          "scattergeo": [
           {
            "marker": {
             "colorbar": {
              "outlinewidth": 0,
              "ticks": ""
             }
            },
            "type": "scattergeo"
           }
          ],
          "scattergl": [
           {
            "marker": {
             "colorbar": {
              "outlinewidth": 0,
              "ticks": ""
             }
            },
            "type": "scattergl"
           }
          ],
          "scattermapbox": [
           {
            "marker": {
             "colorbar": {
              "outlinewidth": 0,
              "ticks": ""
             }
            },
            "type": "scattermapbox"
           }
          ],
          "scatterpolar": [
           {
            "marker": {
             "colorbar": {
              "outlinewidth": 0,
              "ticks": ""
             }
            },
            "type": "scatterpolar"
           }
          ],
          "scatterpolargl": [
           {
            "marker": {
             "colorbar": {
              "outlinewidth": 0,
              "ticks": ""
             }
            },
            "type": "scatterpolargl"
           }
          ],
          "scatterternary": [
           {
            "marker": {
             "colorbar": {
              "outlinewidth": 0,
              "ticks": ""
             }
            },
            "type": "scatterternary"
           }
          ],
          "surface": [
           {
            "colorbar": {
             "outlinewidth": 0,
             "ticks": ""
            },
            "colorscale": [
             [
              0,
              "#0d0887"
             ],
             [
              0.1111111111111111,
              "#46039f"
             ],
             [
              0.2222222222222222,
              "#7201a8"
             ],
             [
              0.3333333333333333,
              "#9c179e"
             ],
             [
              0.4444444444444444,
              "#bd3786"
             ],
             [
              0.5555555555555556,
              "#d8576b"
             ],
             [
              0.6666666666666666,
              "#ed7953"
             ],
             [
              0.7777777777777778,
              "#fb9f3a"
             ],
             [
              0.8888888888888888,
              "#fdca26"
             ],
             [
              1,
              "#f0f921"
             ]
            ],
            "type": "surface"
           }
          ],
          "table": [
           {
            "cells": {
             "fill": {
              "color": "#EBF0F8"
             },
             "line": {
              "color": "white"
             }
            },
            "header": {
             "fill": {
              "color": "#C8D4E3"
             },
             "line": {
              "color": "white"
             }
            },
            "type": "table"
           }
          ]
         },
         "layout": {
          "annotationdefaults": {
           "arrowcolor": "#2a3f5f",
           "arrowhead": 0,
           "arrowwidth": 1
          },
          "autotypenumbers": "strict",
          "coloraxis": {
           "colorbar": {
            "outlinewidth": 0,
            "ticks": ""
           }
          },
          "colorscale": {
           "diverging": [
            [
             0,
             "#8e0152"
            ],
            [
             0.1,
             "#c51b7d"
            ],
            [
             0.2,
             "#de77ae"
            ],
            [
             0.3,
             "#f1b6da"
            ],
            [
             0.4,
             "#fde0ef"
            ],
            [
             0.5,
             "#f7f7f7"
            ],
            [
             0.6,
             "#e6f5d0"
            ],
            [
             0.7,
             "#b8e186"
            ],
            [
             0.8,
             "#7fbc41"
            ],
            [
             0.9,
             "#4d9221"
            ],
            [
             1,
             "#276419"
            ]
           ],
           "sequential": [
            [
             0,
             "#0d0887"
            ],
            [
             0.1111111111111111,
             "#46039f"
            ],
            [
             0.2222222222222222,
             "#7201a8"
            ],
            [
             0.3333333333333333,
             "#9c179e"
            ],
            [
             0.4444444444444444,
             "#bd3786"
            ],
            [
             0.5555555555555556,
             "#d8576b"
            ],
            [
             0.6666666666666666,
             "#ed7953"
            ],
            [
             0.7777777777777778,
             "#fb9f3a"
            ],
            [
             0.8888888888888888,
             "#fdca26"
            ],
            [
             1,
             "#f0f921"
            ]
           ],
           "sequentialminus": [
            [
             0,
             "#0d0887"
            ],
            [
             0.1111111111111111,
             "#46039f"
            ],
            [
             0.2222222222222222,
             "#7201a8"
            ],
            [
             0.3333333333333333,
             "#9c179e"
            ],
            [
             0.4444444444444444,
             "#bd3786"
            ],
            [
             0.5555555555555556,
             "#d8576b"
            ],
            [
             0.6666666666666666,
             "#ed7953"
            ],
            [
             0.7777777777777778,
             "#fb9f3a"
            ],
            [
             0.8888888888888888,
             "#fdca26"
            ],
            [
             1,
             "#f0f921"
            ]
           ]
          },
          "colorway": [
           "#636efa",
           "#EF553B",
           "#00cc96",
           "#ab63fa",
           "#FFA15A",
           "#19d3f3",
           "#FF6692",
           "#B6E880",
           "#FF97FF",
           "#FECB52"
          ],
          "font": {
           "color": "#2a3f5f"
          },
          "geo": {
           "bgcolor": "white",
           "lakecolor": "white",
           "landcolor": "#E5ECF6",
           "showlakes": true,
           "showland": true,
           "subunitcolor": "white"
          },
          "hoverlabel": {
           "align": "left"
          },
          "hovermode": "closest",
          "mapbox": {
           "style": "light"
          },
          "paper_bgcolor": "white",
          "plot_bgcolor": "#E5ECF6",
          "polar": {
           "angularaxis": {
            "gridcolor": "white",
            "linecolor": "white",
            "ticks": ""
           },
           "bgcolor": "#E5ECF6",
           "radialaxis": {
            "gridcolor": "white",
            "linecolor": "white",
            "ticks": ""
           }
          },
          "scene": {
           "xaxis": {
            "backgroundcolor": "#E5ECF6",
            "gridcolor": "white",
            "gridwidth": 2,
            "linecolor": "white",
            "showbackground": true,
            "ticks": "",
            "zerolinecolor": "white"
           },
           "yaxis": {
            "backgroundcolor": "#E5ECF6",
            "gridcolor": "white",
            "gridwidth": 2,
            "linecolor": "white",
            "showbackground": true,
            "ticks": "",
            "zerolinecolor": "white"
           },
           "zaxis": {
            "backgroundcolor": "#E5ECF6",
            "gridcolor": "white",
            "gridwidth": 2,
            "linecolor": "white",
            "showbackground": true,
            "ticks": "",
            "zerolinecolor": "white"
           }
          },
          "shapedefaults": {
           "line": {
            "color": "#2a3f5f"
           }
          },
          "ternary": {
           "aaxis": {
            "gridcolor": "white",
            "linecolor": "white",
            "ticks": ""
           },
           "baxis": {
            "gridcolor": "white",
            "linecolor": "white",
            "ticks": ""
           },
           "bgcolor": "#E5ECF6",
           "caxis": {
            "gridcolor": "white",
            "linecolor": "white",
            "ticks": ""
           }
          },
          "title": {
           "x": 0.05
          },
          "xaxis": {
           "automargin": true,
           "gridcolor": "white",
           "linecolor": "white",
           "ticks": "",
           "title": {
            "standoff": 15
           },
           "zerolinecolor": "white",
           "zerolinewidth": 2
          },
          "yaxis": {
           "automargin": true,
           "gridcolor": "white",
           "linecolor": "white",
           "ticks": "",
           "title": {
            "standoff": 15
           },
           "zerolinecolor": "white",
           "zerolinewidth": 2
          }
         }
        }
       }
      },
      "text/html": [
       "<div>                            <div id=\"39507b5d-a0de-4d2c-a794-f55d21b76ef4\" class=\"plotly-graph-div\" style=\"height:525px; width:100%;\"></div>            <script type=\"text/javascript\">                require([\"plotly\"], function(Plotly) {                    window.PLOTLYENV=window.PLOTLYENV || {};                                    if (document.getElementById(\"39507b5d-a0de-4d2c-a794-f55d21b76ef4\")) {                    Plotly.newPlot(                        \"39507b5d-a0de-4d2c-a794-f55d21b76ef4\",                        [{\"marker\":{\"color\":\"LightSeaGreen\",\"size\":15},\"x\":[\"\",\"PC1\",\"PC2\",\"PC3\"],\"y\":[0.0,0.111,0.17099999999999999,null],\"type\":\"scatter\"},{\"marker\":{\"color\":\"RoyalBlue\"},\"x\":[\"\",\"PC1\",\"PC2\",\"PC3\"],\"y\":[0.0,0.11107454011304223,0.06038588769024733,null],\"type\":\"bar\"}],                        {\"template\":{\"data\":{\"histogram2dcontour\":[{\"type\":\"histogram2dcontour\",\"colorbar\":{\"outlinewidth\":0,\"ticks\":\"\"},\"colorscale\":[[0.0,\"#0d0887\"],[0.1111111111111111,\"#46039f\"],[0.2222222222222222,\"#7201a8\"],[0.3333333333333333,\"#9c179e\"],[0.4444444444444444,\"#bd3786\"],[0.5555555555555556,\"#d8576b\"],[0.6666666666666666,\"#ed7953\"],[0.7777777777777778,\"#fb9f3a\"],[0.8888888888888888,\"#fdca26\"],[1.0,\"#f0f921\"]]}],\"choropleth\":[{\"type\":\"choropleth\",\"colorbar\":{\"outlinewidth\":0,\"ticks\":\"\"}}],\"histogram2d\":[{\"type\":\"histogram2d\",\"colorbar\":{\"outlinewidth\":0,\"ticks\":\"\"},\"colorscale\":[[0.0,\"#0d0887\"],[0.1111111111111111,\"#46039f\"],[0.2222222222222222,\"#7201a8\"],[0.3333333333333333,\"#9c179e\"],[0.4444444444444444,\"#bd3786\"],[0.5555555555555556,\"#d8576b\"],[0.6666666666666666,\"#ed7953\"],[0.7777777777777778,\"#fb9f3a\"],[0.8888888888888888,\"#fdca26\"],[1.0,\"#f0f921\"]]}],\"heatmap\":[{\"type\":\"heatmap\",\"colorbar\":{\"outlinewidth\":0,\"ticks\":\"\"},\"colorscale\":[[0.0,\"#0d0887\"],[0.1111111111111111,\"#46039f\"],[0.2222222222222222,\"#7201a8\"],[0.3333333333333333,\"#9c179e\"],[0.4444444444444444,\"#bd3786\"],[0.5555555555555556,\"#d8576b\"],[0.6666666666666666,\"#ed7953\"],[0.7777777777777778,\"#fb9f3a\"],[0.8888888888888888,\"#fdca26\"],[1.0,\"#f0f921\"]]}],\"heatmapgl\":[{\"type\":\"heatmapgl\",\"colorbar\":{\"outlinewidth\":0,\"ticks\":\"\"},\"colorscale\":[[0.0,\"#0d0887\"],[0.1111111111111111,\"#46039f\"],[0.2222222222222222,\"#7201a8\"],[0.3333333333333333,\"#9c179e\"],[0.4444444444444444,\"#bd3786\"],[0.5555555555555556,\"#d8576b\"],[0.6666666666666666,\"#ed7953\"],[0.7777777777777778,\"#fb9f3a\"],[0.8888888888888888,\"#fdca26\"],[1.0,\"#f0f921\"]]}],\"contourcarpet\":[{\"type\":\"contourcarpet\",\"colorbar\":{\"outlinewidth\":0,\"ticks\":\"\"}}],\"contour\":[{\"type\":\"contour\",\"colorbar\":{\"outlinewidth\":0,\"ticks\":\"\"},\"colorscale\":[[0.0,\"#0d0887\"],[0.1111111111111111,\"#46039f\"],[0.2222222222222222,\"#7201a8\"],[0.3333333333333333,\"#9c179e\"],[0.4444444444444444,\"#bd3786\"],[0.5555555555555556,\"#d8576b\"],[0.6666666666666666,\"#ed7953\"],[0.7777777777777778,\"#fb9f3a\"],[0.8888888888888888,\"#fdca26\"],[1.0,\"#f0f921\"]]}],\"surface\":[{\"type\":\"surface\",\"colorbar\":{\"outlinewidth\":0,\"ticks\":\"\"},\"colorscale\":[[0.0,\"#0d0887\"],[0.1111111111111111,\"#46039f\"],[0.2222222222222222,\"#7201a8\"],[0.3333333333333333,\"#9c179e\"],[0.4444444444444444,\"#bd3786\"],[0.5555555555555556,\"#d8576b\"],[0.6666666666666666,\"#ed7953\"],[0.7777777777777778,\"#fb9f3a\"],[0.8888888888888888,\"#fdca26\"],[1.0,\"#f0f921\"]]}],\"mesh3d\":[{\"type\":\"mesh3d\",\"colorbar\":{\"outlinewidth\":0,\"ticks\":\"\"}}],\"scatter\":[{\"fillpattern\":{\"fillmode\":\"overlay\",\"size\":10,\"solidity\":0.2},\"type\":\"scatter\"}],\"parcoords\":[{\"type\":\"parcoords\",\"line\":{\"colorbar\":{\"outlinewidth\":0,\"ticks\":\"\"}}}],\"scatterpolargl\":[{\"type\":\"scatterpolargl\",\"marker\":{\"colorbar\":{\"outlinewidth\":0,\"ticks\":\"\"}}}],\"bar\":[{\"error_x\":{\"color\":\"#2a3f5f\"},\"error_y\":{\"color\":\"#2a3f5f\"},\"marker\":{\"line\":{\"color\":\"#E5ECF6\",\"width\":0.5},\"pattern\":{\"fillmode\":\"overlay\",\"size\":10,\"solidity\":0.2}},\"type\":\"bar\"}],\"scattergeo\":[{\"type\":\"scattergeo\",\"marker\":{\"colorbar\":{\"outlinewidth\":0,\"ticks\":\"\"}}}],\"scatterpolar\":[{\"type\":\"scatterpolar\",\"marker\":{\"colorbar\":{\"outlinewidth\":0,\"ticks\":\"\"}}}],\"histogram\":[{\"marker\":{\"pattern\":{\"fillmode\":\"overlay\",\"size\":10,\"solidity\":0.2}},\"type\":\"histogram\"}],\"scattergl\":[{\"type\":\"scattergl\",\"marker\":{\"colorbar\":{\"outlinewidth\":0,\"ticks\":\"\"}}}],\"scatter3d\":[{\"type\":\"scatter3d\",\"line\":{\"colorbar\":{\"outlinewidth\":0,\"ticks\":\"\"}},\"marker\":{\"colorbar\":{\"outlinewidth\":0,\"ticks\":\"\"}}}],\"scattermapbox\":[{\"type\":\"scattermapbox\",\"marker\":{\"colorbar\":{\"outlinewidth\":0,\"ticks\":\"\"}}}],\"scatterternary\":[{\"type\":\"scatterternary\",\"marker\":{\"colorbar\":{\"outlinewidth\":0,\"ticks\":\"\"}}}],\"scattercarpet\":[{\"type\":\"scattercarpet\",\"marker\":{\"colorbar\":{\"outlinewidth\":0,\"ticks\":\"\"}}}],\"carpet\":[{\"aaxis\":{\"endlinecolor\":\"#2a3f5f\",\"gridcolor\":\"white\",\"linecolor\":\"white\",\"minorgridcolor\":\"white\",\"startlinecolor\":\"#2a3f5f\"},\"baxis\":{\"endlinecolor\":\"#2a3f5f\",\"gridcolor\":\"white\",\"linecolor\":\"white\",\"minorgridcolor\":\"white\",\"startlinecolor\":\"#2a3f5f\"},\"type\":\"carpet\"}],\"table\":[{\"cells\":{\"fill\":{\"color\":\"#EBF0F8\"},\"line\":{\"color\":\"white\"}},\"header\":{\"fill\":{\"color\":\"#C8D4E3\"},\"line\":{\"color\":\"white\"}},\"type\":\"table\"}],\"barpolar\":[{\"marker\":{\"line\":{\"color\":\"#E5ECF6\",\"width\":0.5},\"pattern\":{\"fillmode\":\"overlay\",\"size\":10,\"solidity\":0.2}},\"type\":\"barpolar\"}],\"pie\":[{\"automargin\":true,\"type\":\"pie\"}]},\"layout\":{\"autotypenumbers\":\"strict\",\"colorway\":[\"#636efa\",\"#EF553B\",\"#00cc96\",\"#ab63fa\",\"#FFA15A\",\"#19d3f3\",\"#FF6692\",\"#B6E880\",\"#FF97FF\",\"#FECB52\"],\"font\":{\"color\":\"#2a3f5f\"},\"hovermode\":\"closest\",\"hoverlabel\":{\"align\":\"left\"},\"paper_bgcolor\":\"white\",\"plot_bgcolor\":\"#E5ECF6\",\"polar\":{\"bgcolor\":\"#E5ECF6\",\"angularaxis\":{\"gridcolor\":\"white\",\"linecolor\":\"white\",\"ticks\":\"\"},\"radialaxis\":{\"gridcolor\":\"white\",\"linecolor\":\"white\",\"ticks\":\"\"}},\"ternary\":{\"bgcolor\":\"#E5ECF6\",\"aaxis\":{\"gridcolor\":\"white\",\"linecolor\":\"white\",\"ticks\":\"\"},\"baxis\":{\"gridcolor\":\"white\",\"linecolor\":\"white\",\"ticks\":\"\"},\"caxis\":{\"gridcolor\":\"white\",\"linecolor\":\"white\",\"ticks\":\"\"}},\"coloraxis\":{\"colorbar\":{\"outlinewidth\":0,\"ticks\":\"\"}},\"colorscale\":{\"sequential\":[[0.0,\"#0d0887\"],[0.1111111111111111,\"#46039f\"],[0.2222222222222222,\"#7201a8\"],[0.3333333333333333,\"#9c179e\"],[0.4444444444444444,\"#bd3786\"],[0.5555555555555556,\"#d8576b\"],[0.6666666666666666,\"#ed7953\"],[0.7777777777777778,\"#fb9f3a\"],[0.8888888888888888,\"#fdca26\"],[1.0,\"#f0f921\"]],\"sequentialminus\":[[0.0,\"#0d0887\"],[0.1111111111111111,\"#46039f\"],[0.2222222222222222,\"#7201a8\"],[0.3333333333333333,\"#9c179e\"],[0.4444444444444444,\"#bd3786\"],[0.5555555555555556,\"#d8576b\"],[0.6666666666666666,\"#ed7953\"],[0.7777777777777778,\"#fb9f3a\"],[0.8888888888888888,\"#fdca26\"],[1.0,\"#f0f921\"]],\"diverging\":[[0,\"#8e0152\"],[0.1,\"#c51b7d\"],[0.2,\"#de77ae\"],[0.3,\"#f1b6da\"],[0.4,\"#fde0ef\"],[0.5,\"#f7f7f7\"],[0.6,\"#e6f5d0\"],[0.7,\"#b8e186\"],[0.8,\"#7fbc41\"],[0.9,\"#4d9221\"],[1,\"#276419\"]]},\"xaxis\":{\"gridcolor\":\"white\",\"linecolor\":\"white\",\"ticks\":\"\",\"title\":{\"standoff\":15},\"zerolinecolor\":\"white\",\"automargin\":true,\"zerolinewidth\":2},\"yaxis\":{\"gridcolor\":\"white\",\"linecolor\":\"white\",\"ticks\":\"\",\"title\":{\"standoff\":15},\"zerolinecolor\":\"white\",\"automargin\":true,\"zerolinewidth\":2},\"scene\":{\"xaxis\":{\"backgroundcolor\":\"#E5ECF6\",\"gridcolor\":\"white\",\"linecolor\":\"white\",\"showbackground\":true,\"ticks\":\"\",\"zerolinecolor\":\"white\",\"gridwidth\":2},\"yaxis\":{\"backgroundcolor\":\"#E5ECF6\",\"gridcolor\":\"white\",\"linecolor\":\"white\",\"showbackground\":true,\"ticks\":\"\",\"zerolinecolor\":\"white\",\"gridwidth\":2},\"zaxis\":{\"backgroundcolor\":\"#E5ECF6\",\"gridcolor\":\"white\",\"linecolor\":\"white\",\"showbackground\":true,\"ticks\":\"\",\"zerolinecolor\":\"white\",\"gridwidth\":2}},\"shapedefaults\":{\"line\":{\"color\":\"#2a3f5f\"}},\"annotationdefaults\":{\"arrowcolor\":\"#2a3f5f\",\"arrowhead\":0,\"arrowwidth\":1},\"geo\":{\"bgcolor\":\"white\",\"landcolor\":\"#E5ECF6\",\"subunitcolor\":\"white\",\"showland\":true,\"showlakes\":true,\"lakecolor\":\"white\"},\"title\":{\"x\":0.05},\"mapbox\":{\"style\":\"light\"}}}},                        {\"responsive\": true}                    ).then(function(){\n",
       "                            \n",
       "var gd = document.getElementById('39507b5d-a0de-4d2c-a794-f55d21b76ef4');\n",
       "var x = new MutationObserver(function (mutations, observer) {{\n",
       "        var display = window.getComputedStyle(gd).display;\n",
       "        if (!display || display === 'none') {{\n",
       "            console.log([gd, 'removed!']);\n",
       "            Plotly.purge(gd);\n",
       "            observer.disconnect();\n",
       "        }}\n",
       "}});\n",
       "\n",
       "// Listen for the removal of the full notebook cells\n",
       "var notebookContainer = gd.closest('#notebook-container');\n",
       "if (notebookContainer) {{\n",
       "    x.observe(notebookContainer, {childList: true});\n",
       "}}\n",
       "\n",
       "// Listen for the clearing of the current output cell\n",
       "var outputEl = gd.closest('.output');\n",
       "if (outputEl) {{\n",
       "    x.observe(outputEl, {childList: true});\n",
       "}}\n",
       "\n",
       "                        })                };                });            </script>        </div>"
      ]
     },
     "metadata": {},
     "output_type": "display_data"
    }
   ],
   "source": [
    "#variance expliquée + variance cumulative en %\n",
    "import plotly.graph_objects as go\n",
    "\n",
    "fig = go.Figure()\n",
    "\n",
    "fig.add_trace(\n",
    "    go.Scatter(\n",
    "        x=df_explained_variance['PC'],\n",
    "        y=df_explained_variance['Cumulative Variance'],\n",
    "        marker=dict(size=15, color=\"LightSeaGreen\")\n",
    "    ))\n",
    "\n",
    "fig.add_trace(\n",
    "    go.Bar(\n",
    "        x=df_explained_variance['PC'],\n",
    "        y=df_explained_variance['Explained Variance'],\n",
    "        marker=dict(color=\"RoyalBlue\")\n",
    "    ))\n",
    "\n",
    "fig.show()"
   ]
  },
  {
   "cell_type": "markdown",
   "id": "43dcc666",
   "metadata": {},
   "source": [
    "##  Rapport, description des résultats (1%)\n",
    "\n",
    "Résultats\n",
    "Mes résulats n'ont pas été dans le sens que j'avais anticipé. en effet, je croyais que je serais en mesure d'avoir une efficacité d'autour de 80-90% dans ma classsification avec l'algorithme de régression logistique(ou SVM). Ce n'est pourtant pas ce qui s'est produit du tout. J'ai plutôt eu un taux de réussite inférieur à 50%... Ces résultat vont donc à l'encontre des découvertes faites par plusieurs auteurs selon lesquelles le tronc cérébral jouerait un rôle dans l ecodage de l'information liée à un ou gain ou une perte dans une tâche de gambling. \n",
    "\n",
    "Concernant les résultats pour l'apprentissage non supervisé, disons que mon dataset n'était peut-être pas toout à fait approprié pour ce genre d'apprentissage. Plusieurs auteurs l'ont mentionné (ex:Amr Abdullatif,Luis Argerich, etc): un trop grand nombre de features peut être très néfaste dans les cas de l'apprentissage non supervisé, c'est ce que plusieurs ont nommé le \"maleur de de la diimensionalité... Il n'est donc pas surpenant d'apprendre que mes résultats n'ont pas donnée lieu à des grandes découvertes. En effet, mes clusters expliquent très peu de variance..."
   ]
  }
 ],
 "metadata": {
  "kernelspec": {
   "display_name": "Python 3 (ipykernel)",
   "language": "python",
   "name": "python3"
  },
  "language_info": {
   "codemirror_mode": {
    "name": "ipython",
    "version": 3
   },
   "file_extension": ".py",
   "mimetype": "text/x-python",
   "name": "python",
   "nbconvert_exporter": "python",
   "pygments_lexer": "ipython3",
   "version": "3.10.2"
  }
 },
 "nbformat": 4,
 "nbformat_minor": 5
}
