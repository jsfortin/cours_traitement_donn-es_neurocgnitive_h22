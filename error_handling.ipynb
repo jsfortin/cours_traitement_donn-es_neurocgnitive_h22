{
 "cells": [
  {
   "cell_type": "code",
   "execution_count": null,
   "id": "a98800e6",
   "metadata": {},
   "outputs": [],
   "source": [
    "#Débutons avec mon TABLEAU DE PRÉDICTEURS (X)\n",
    "\n",
    "#TABLEAU DE PRÉDICTEURS (X) Ici, je suis supposé avoir seulement soit des float ou des integers. Dans l'éventualité où il y aurait des valeurs qui ne\n",
    "#sont ni des float ni des integer, mon code va  \"droper\" les colonnes où cela se produit.\n",
    "\n",
    "for i in range(0, len(X.columns)): #pour les toutes les colonnes\n",
    "    column = X[i].values.tolist() # on transforme la colonne en une liste\n",
    "    flat_list = [item for sublist in column for item in sublist]\n",
    "    for x in flat_list:\n",
    "        try:\n",
    "            float(x)\n",
    "        except:\n",
    "            X = X.drop([i], axis=1) \n",
    "            \n",
    "#TABLEAU D'OUTCOMES (Y)\n",
    "#Ici, je suis supposé avoir seulement des 0 et des 1. Dans l'éventualité où il y aurait des valeurs autres que 0 et 1, \n",
    "#mon code va transformer ces valeurs en \"missing values\". Ces valeurs seront traités à l'étape suivante.\n",
    "\n",
    "column = Y.values.tolist() \n",
    "list_of_missing = []\n",
    "compteur = 0\n",
    "for x in column :\n",
    "    if x == '1' or x == '0' :\n",
    "        pass\n",
    "    else:\n",
    "        list_of_missing.append(int(compteur))\n",
    "    compteur = compteur + 1    \n",
    "    \n",
    "drop = list_of_missing\n",
    "Y= Y.drop(drop, axis=0)\n",
    "X = X.drop(drop, axis = 0)\n",
    " \n",
    "       \n",
    "\n",
    "print('X is printed and afterward Y is printed')    \n",
    "print(X)\n",
    "print(Y)"
   ]
  }
 ],
 "metadata": {
  "kernelspec": {
   "display_name": "Python 3 (ipykernel)",
   "language": "python",
   "name": "python3"
  },
  "language_info": {
   "codemirror_mode": {
    "name": "ipython",
    "version": 3
   },
   "file_extension": ".py",
   "mimetype": "text/x-python",
   "name": "python",
   "nbconvert_exporter": "python",
   "pygments_lexer": "ipython3",
   "version": "3.10.2"
  }
 },
 "nbformat": 4,
 "nbformat_minor": 5
}
